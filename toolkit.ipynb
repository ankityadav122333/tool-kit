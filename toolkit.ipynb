{
 "cells": [
  {
   "cell_type": "markdown",
   "id": "7b44e879-a01f-42ec-86d9-320887daed2c",
   "metadata": {},
   "source": [
    "### 1 What is NumPy, and why is it widely used in Python?"
   ]
  },
  {
   "cell_type": "markdown",
   "id": "e25e015a-4888-4df0-b13e-7d9ff0593c60",
   "metadata": {},
   "source": [
    "- NumPy (short for Numerical Python) is a p\n",
    "owerful open-source library used for numerical and scientific computing in Python.\n",
    "###### What is NumPy\n",
    "- A high-performance multidimensional array object called ndarray.\n",
    "- Tools for performing mathematical operations on arrays, such as:\n",
    "- Linear algebra\n",
    "- Fourier transforms\n",
    "- Statistics\n",
    "###### Why is NumPy widely used?\n",
    "###### Efficient Array Computation\n",
    "- NumPy arrays are faster and more memory-efficient than Python lists.\n",
    "- Operations are implemented in C, which boosts performance.\n",
    "###### Broadcasting\n",
    "- Allows operations between arrays of different shapes without writing complex loops.\n",
    "###### Support for Multidimensional Arrays\n",
    "- Easily create and manipulate 1D, 2D, 3D arrays and beyond.\n",
    "###### Wide Range of Functions\n",
    "- NumPy includes many built-in functions for:\n",
    "- Aggregation (sum, mean, max)\n",
    "- Mathematical operations (sin, cos, sqrt)\n",
    "- Array manipulation (reshape, concatenate, split)\n",
    "###### Foundation for Other Libraries\n",
    "Libraries like Pandas, SciPy, scikit-learn, TensorFlow, and PyTorch use NumPy arrays internally.\n",
    "##### Integration with C/C++ and Fortran\n",
    "- Easy to interface with other languages for performance-critical tasks."
   ]
  },
  {
   "cell_type": "markdown",
   "id": "ce458690-ecaa-42e1-b8d4-182be4274de4",
   "metadata": {},
   "source": [
    "### 2. How Does Broadcasting Work in NumPy?"
   ]
  },
  {
   "cell_type": "markdown",
   "id": "6265e12c-b75a-4449-bc2e-708c90eace99",
   "metadata": {},
   "source": [
    "- Broadcasting in NumPy is a powerful feature that allows you to perform arithmetic operations on arrays of different shapes as if they had the same shape, without making unnecessary copies of data.\n",
    "###### Basic Idea\n",
    "- When performing operations (like addition, multiplication, etc.) between arrays of different shapes, NumPy automatically stretches or broadcasts the smaller array so it matches the shape of the larger one — without copying data.\n",
    "\n",
    "Broadcasting Rules\n",
    "- 1.If the arrays have different numbers of dimensions, the shape of the smaller array is padded with ones on the left.\n",
    "- 2.Arrays are compatible in a dimension if:\n",
    "- They are equal, or\n",
    "- One of them is 1.\n",
    "- 3.Arrays can be broadcasted if they are compatible in all dimensions.\n",
    "    "
   ]
  },
  {
   "cell_type": "markdown",
   "id": "4aaf5041-64b9-40b8-ab24-7a28eeefde3b",
   "metadata": {},
   "source": [
    "### 3. What is a Pandas DataFrame?"
   ]
  },
  {
   "cell_type": "markdown",
   "id": "222efb28-011d-4d9e-8cdf-76e1d4c63407",
   "metadata": {},
   "source": [
    "- A Pandas DataFrame is a two-dimensional, labeled data structure in Python — similar to a table in a database, an Excel spreadsheet, or a SQL table.\n",
    "  Key Features of a DataFrame:\n",
    "##### Feature\t           - Description\n",
    "- Labeled axes\t       - Rows have index labels, columns have column names\n",
    "- Heterogeneous data   - Each column can have a different data type (e.g., int, float, string)\n",
    "- Tabular structure\t   - Think of it as a table with rows and columns\n",
    "- Flexible operations  - Supports filtering, joining, grouping, reshaping, and more\n"
   ]
  },
  {
   "cell_type": "markdown",
   "id": "b603d4ed-d78c-480c-a998-a70aa1ae267a",
   "metadata": {},
   "source": [
    "### 4. What is the groupby() Method in Pandas?"
   ]
  },
  {
   "cell_type": "markdown",
   "id": "54114164-18ff-412d-bf41-2d95072a8a9b",
   "metadata": {},
   "source": [
    "- The groupby() method in Pandas is used to split the data into groups based on one or more columns, apply a function (like sum(), mean(), etc.), and then combine the results into a new DataFrame.\n",
    "##### Main Concept: Split → Apply → Combine\n",
    "- Split the data into groups using some criteria.\n",
    "- Apply a function to each group (e.g., aggregate, transform).\n",
    "- Combine the results into a new structure."
   ]
  },
  {
   "cell_type": "markdown",
   "id": "bf01866f-d44a-441e-a78f-c7d62d19baa8",
   "metadata": {},
   "source": [
    "### 5. Why is Seaborn Preferred for Statistical Visualizations?"
   ]
  },
  {
   "cell_type": "markdown",
   "id": "ff7fbc31-1ba6-44ae-bc22-82751cf1b30f",
   "metadata": {},
   "source": [
    "- Seaborn is a powerful Python data visualization library built on top of Matplotlib. It is specifically designed for statistical graphics, which makes it a popular choice for data scientists and analysts.\n",
    "\n",
    "##### Key Reasons Seaborn is Preferred\n",
    "##### Feature\t                - Why It’s Useful\n",
    "- Built-in statistical plots\t- Easily create complex plots like box plots, violin plots, heatmaps, etc.\n",
    "- Simpler syntax\t            - Requires fewer lines of code than Matplotlib for beautiful, informative plots\n",
    "- Attractive default styles\t    - Seaborn comes with visually appealing themes and color palettes\n",
    "- Data-aware\t                - Works directly with Pandas DataFrames and uses column names automatically\n",
    "- Automatic summarization\t    - Aggregates and summarizes data for plots like barplot() or pointplot()\n",
    "- Integrated with Matplotlib\t- Allows customization using Matplotlib commands if needed\n"
   ]
  },
  {
   "cell_type": "markdown",
   "id": "5397007b-0627-4c5f-9110-f421ff793d9c",
   "metadata": {},
   "source": [
    "### 6 What Are the Differences Between NumPy Arrays and Python Lists?"
   ]
  },
  {
   "cell_type": "markdown",
   "id": "0368ce9d-9d41-4e7c-ae44-396c70b4f543",
   "metadata": {},
   "source": [
    "-Both NumPy arrays and Python lists can store sequences of data, but they are designed for different purposes and have important differences in performance, functionality, and behavior.\n",
    "\n",
    "| Feature                      | **Python List**                          | **NumPy Array (`ndarray`)**                      |\n",
    "| ---------------------------- | ---------------------------------------- | ------------------------------------------------ |\n",
    "| **Data Types**               | Can hold **mixed data types**            | Stores data of the **same type only**            |\n",
    "| **Speed**                    | Slower for numeric operations            | **Much faster** due to C-based implementation    |\n",
    "| **Memory Efficiency**        | Less efficient                           | **More memory-efficient**                        |\n",
    "| **Functionality**            | Basic operations like append, pop, etc.  | Supports **vectorized operations**, broadcasting |\n",
    "| **Mathematical Operations**  | Not supported directly                   | Supports **element-wise operations**             |\n",
    "| **Multidimensional Support** | Manually with nested lists (inefficient) | Direct support for **multi-dimensional arrays**  |\n",
    "| **Convenience**              | Simpler for general use                  | Better for **scientific and numerical tasks**    |\n",
    "\n",
    "\n"
   ]
  },
  {
   "cell_type": "markdown",
   "id": "77963471-6b77-4f85-ac2f-6484d499418f",
   "metadata": {},
   "source": [
    "### 7. What is a Heatmap, and When Should It Be Used?"
   ]
  },
  {
   "cell_type": "markdown",
   "id": "176e65f5-ee03-4c52-ab81-9cdaefd88327",
   "metadata": {},
   "source": [
    "- A heatmap is a data visualization technique that uses color gradients to represent the magnitude of values in a matrix or 2D data.\n",
    "It helps reveal patterns, correlations, or variations across rows and columns.\n",
    "In Python, heatmaps are commonly created using Seaborn or Matplotlib.\n",
    "##### Key Characteristics\n",
    "- Represent data in rows and columns (like a table).\n",
    "- Color intensity indicates higher or lower values.\n",
    "- Often used with correlation matrices, pivot tables, or confusion matrices.\n",
    "| Use Case                           | Description                                                 |\n",
    "| ---------------------------------- | ----------------------------------------------------------- |\n",
    "| **Correlation analysis**           | To visualize relationships between variables                |\n",
    "| **Missing data detection**         | Highlight missing values using `sns.heatmap(df.isnull())`   |\n",
    "| **Confusion matrix visualization** | To evaluate model performance in classification problems    |\n",
    "| **Pivot table display**            | To show aggregated metrics across two categorical variables |\n",
    "| **Website click tracking**         | Visualize user behavior (where they click most often)       |\n"
   ]
  },
  {
   "cell_type": "markdown",
   "id": "2249f684-0c92-4405-bedd-506affd17927",
   "metadata": {},
   "source": [
    "### 8. What Does the Term “Vectorized Operation” Mean in NumPy?"
   ]
  },
  {
   "cell_type": "markdown",
   "id": "8177e0ba-155d-47e7-bde9-4ec2eef00064",
   "metadata": {},
   "source": [
    "- A vectorized operation in NumPy refers to performing operations on entire arrays (vectors) without using explicit loops.\n",
    "It means applying a function to every element of an array at once, using highly optimized C-based code under the hood.\n",
    "##### Why Is It Important?\n",
    "- Faster execution (up to 100x compared to Python loops)\n",
    "- Cleaner and shorter code\n",
    "- More memory-efficient\n",
    "- Ideal for mathematical and statistical operations\n",
    "\n"
   ]
  },
  {
   "cell_type": "markdown",
   "id": "b9e34859-ba07-4d2f-814e-21170701228f",
   "metadata": {},
   "source": [
    "### 9 How does Matplotlib differ from Plotly?"
   ]
  },
  {
   "cell_type": "markdown",
   "id": "d82a6fd9-379a-4f4e-ad9c-0c8995c6defe",
   "metadata": {},
   "source": [
    "- Both Matplotlib and Plotly are popular Python libraries for data visualization, but they serve different purposes and offer different features.\n",
    "| Feature           | **Matplotlib**                      | **Plotly**                               |\n",
    "| ----------------- | ----------------------------------- | ---------------------------------------- |\n",
    "| **Type**          | Static plotting library             | Interactive plotting library             |\n",
    "| **Output**        | PNG, PDF, SVG (non-interactive)     | HTML (zoomable, clickable charts)        |\n",
    "| **Ease of use**   | More code-heavy, traditional syntax | More modern and user-friendly syntax     |\n",
    "| **Customization** | Highly customizable                 | Customizable with interactive UI options |\n",
    "| **Interactivity** |  Static charts                     |  Fully interactive (hover, zoom, click) |\n",
    "| **Usage context** | Great for reports and publications  | Great for dashboards and web apps        |\n"
   ]
  },
  {
   "cell_type": "markdown",
   "id": "6c1a2d50-d279-4512-865a-7e127e4c0df6",
   "metadata": {},
   "source": [
    "### 10. What is the significance of hierarchical indexing in Pandas?"
   ]
  },
  {
   "cell_type": "markdown",
   "id": "d1a1b337-9e09-4097-8f86-205aa8975ad5",
   "metadata": {},
   "source": [
    "- Hierarchical indexing (also called MultiIndexing) in Pandas allows you to have multiple levels of indexing on a single axis (rows or columns).\n",
    "This means you can represent and access higher-dimensional data in a 2D DataFrame format.\n",
    "| Feature                        | Benefit                                                              |\n",
    "| ------------------------------ | -------------------------------------------------------------------- |\n",
    "| Organizes complex data       | Makes it easy to represent grouped or nested data                    |\n",
    "| Enables multi-level grouping | Works well with `groupby()` and `pivot_table()`                      |\n",
    "| Efficient slicing & access   | Access rows/columns with multiple levels using `loc[]`, `xs()`, etc. |\n",
    "| Better reshaping             | Useful in reshaping data using `.stack()` and `.unstack()`           |\n"
   ]
  },
  {
   "cell_type": "markdown",
   "id": "a0ba0b13-dc91-427e-b41f-c752b89b17d8",
   "metadata": {},
   "source": [
    "### 11. What is the role of Seaborn’s pairplot() function?"
   ]
  },
  {
   "cell_type": "markdown",
   "id": "7a221882-b17d-45eb-8627-aecb8d165fec",
   "metadata": {},
   "source": [
    "###### What is pairplot()?\n",
    "- seaborn.pairplot() is a function that creates a matrix of plots to visualize pairwise relationships between numerical variables in a dataset.\n",
    "It’s especially useful for:\n",
    "- Exploring correlations\n",
    "- Visualizing distributions\n",
    "- Identifying patterns or outliers\n",
    "- Understanding class separation in classification problems\n",
    "  | Use Case                                   | Why Use `pairplot()`?                          |\n",
    "| ------------------------------------------ | ---------------------------------------------- |\n",
    "| Understand relationships between variables | Spot trends, clusters, or outliers             |\n",
    "| Explore class separation                   | Check if target classes are linearly separable |\n",
    "| Visualize correlation visually             | Identify highly correlated variables quickly   |\n",
    "| Pre-modeling exploration (EDA)             | Get a quick overview of data structure         |\n"
   ]
  },
  {
   "cell_type": "markdown",
   "id": "b0cb5962-ce68-43ea-9189-b50b9d91c75a",
   "metadata": {},
   "source": [
    "### 12. What is the purpose of the describe() function in Pandas?"
   ]
  },
  {
   "cell_type": "markdown",
   "id": "9a484f9b-9002-4668-b355-e407dd543529",
   "metadata": {},
   "source": [
    "###### What is describe()?\n",
    "The describe() function in Pandas is used to generate summary statistics of numerical (and optionally categorical) columns in a DataFrame or Series.\n",
    "\n",
    "It provides a quick overview of the distribution, spread, and central tendency of the data.\n",
    "import pandas as pd\n",
    "\n",
    "data = {\n",
    "    'Age': [25, 30, 22, 35, 40],\n",
    "    'Salary': [50000, 60000, 45000, 70000, 80000]\n",
    "}\n",
    "\n",
    "df = pd.DataFrame(data)\n",
    "\n",
    "print(df.describe())\n"
   ]
  },
  {
   "cell_type": "markdown",
   "id": "ea0b7b69-62f8-47ca-8329-4cc6c72deeed",
   "metadata": {},
   "source": [
    "### 13. Why is handling missing data important in Pandas?"
   ]
  },
  {
   "cell_type": "markdown",
   "id": "bc769301-094c-46fa-b2fc-f03c10ab132b",
   "metadata": {},
   "source": [
    "##### In Pandas, missing data is typically represented as:\n",
    "- NaN (Not a Number)\n",
    "- None (Python’s null value)\n",
    "#### Why Is Handling Missing Data Important?\n",
    "| Reason                            | Explanation                                                               |\n",
    "| --------------------------------- | ------------------------------------------------------------------------- |\n",
    "| ✅ **Data integrity**              | Incomplete data can lead to **wrong or biased results**                   |\n",
    "| ✅ **Model accuracy**              | Many machine learning algorithms **cannot handle NaNs**                   |\n",
    "| ✅ **Function failure prevention** | Operations like mean, sum, or plotting may **crash or skip** missing data |\n",
    "| ✅ **Cleaner visuals**             | Charts and graphs with NaNs can be misleading or incomplete               |\n",
    "| ✅ **Better decision-making**      | Unhandled missing values can lead to **incorrect business conclusions**   |\n",
    "\n",
    "##### Common Causes of Missing Data\n",
    "- Incomplete data entry\n",
    "- Data corruption\n",
    "- Merging datasets with unmatched rows\n",
    "- Sensor failures or network drops\n",
    "##### How to Handle Missing Data in Pandas\n",
    "| Method                   | Code Example                         | Use Case                        |\n",
    "| ------------------------ | ------------------------------------ | ------------------------------- |\n",
    "| Detect missing data      | `df.isnull()` or `df.isna()`         | Locate missing values           |\n",
    "| Drop rows/columns        | `df.dropna()`                        | Remove incomplete entries       |\n",
    "| Fill with default values | `df.fillna(0)`                       | Fill blanks with a constant     |\n",
    "| Fill with statistics     | `df['col'].fillna(df['col'].mean())` | Replace with mean, median, etc. |\n",
    "| Interpolation            | `df.interpolate()`                   | Estimate missing values         |\n"
   ]
  },
  {
   "cell_type": "markdown",
   "id": "c285edb4-d723-4cf4-bc5b-d7a6db016520",
   "metadata": {},
   "source": [
    "### 14.  What are the benefits of using Plotly for data visualization?"
   ]
  },
  {
   "cell_type": "markdown",
   "id": "bb16f375-3dbd-46dd-851a-4baf5ae53061",
   "metadata": {},
   "source": [
    "- Plotly is a powerful Python library used to create interactive, web-based visualizations. It's built on top of D3.js and stack.gl, making it highly flexible and visually appealing.\n",
    "\n",
    "##### Key Benefits of Using Plotly\n",
    "| Benefit                        | Description                                                                      |\n",
    "| ------------------------------ | -------------------------------------------------------------------------------- |\n",
    "|  **Beautiful visualizations** | High-quality, modern, and clean-looking charts out of the box                    |\n",
    "|  **Wide chart support**       | Supports 2D, 3D plots, maps, timelines, gauges, and animations                   |\n",
    "|  **Web integration**          | Charts can be embedded in **web apps**, **dashboards**, or **Jupyter Notebooks** |\n",
    "|  **No JavaScript needed**     | You can build complex interactive charts using only Python                       |\n",
    "|  **Animation support**        | Easily animate charts to show trends over time                                   |\n",
    "|  **Dash integration**         | Works seamlessly with **Dash** to build interactive dashboards                   |\n",
    "\n",
    "import plotly.express as px\n",
    "import pandas as pd\n",
    "\n",
    "df = pd.DataFrame({\n",
    "    'Year': [2020, 2021, 2022, 2023],\n",
    "    'Sales': [100, 150, 200, 250]\n",
    "})\n",
    "\n",
    "fig = px.line(df, x='Year', y='Sales', title='Annual Sales')\n",
    "fig.show()"
   ]
  },
  {
   "cell_type": "markdown",
   "id": "20b4456e-9a6c-4195-8017-d23670990871",
   "metadata": {},
   "source": [
    "### 15. How does NumPy handle multidimensional arrays?"
   ]
  },
  {
   "cell_type": "markdown",
   "id": "d1c2bed4-6abc-4777-95e6-ef0385943dbf",
   "metadata": {},
   "source": [
    " In NumPy, a multidimensional array is simply an array with more than one axis (dimension) — for example:\n",
    "\n",
    "- A 1D array is like a list: [1, 2, 3]\n",
    "- A 2D array is like a matrix: [[1, 2], [3, 4]]\n",
    "- A 3D array is like a cube of numbers: [[[1], [2]], [[3], [4]]]\n",
    "\n",
    "#### Creating Multidimensional Arrays\n",
    "import numpy as np\n",
    "\n",
    "###### 2D array (matrix)\n",
    "arr_2d = np.array([[1, 2], [3, 4]])\n",
    "\n",
    "###### 3D array\n",
    "arr_3d = np.array([[[1, 2], [3, 4]], [[5, 6], [7, 8]]])\n"
   ]
  },
  {
   "cell_type": "markdown",
   "id": "16c272a5-cfc3-4d6f-9d73-47b169de3163",
   "metadata": {},
   "source": [
    "### 16. What is the role of Bokeh in data visualization?"
   ]
  },
  {
   "cell_type": "markdown",
   "id": "5be8d5c5-3c2c-4b89-a638-aff1a93bf074",
   "metadata": {},
   "source": [
    "- Bokeh is a powerful Python library designed for creating interactive, web-based visualizations. It bridges the gap between simple static charts (like Matplotlib) and complex interactive dashboards.\n",
    " Key Roles of Bokeh\n",
    "| Role/Feature                     | Description                                                                 |\n",
    "| -------------------------------- | --------------------------------------------------------------------------- |\n",
    "| **Interactive Plots**          | Bokeh allows zooming, panning, tooltips, selections, etc.                   |\n",
    "| **Web-Ready Visualizations**   | Plots can be rendered in HTML, embedded in websites, or served via a server |\n",
    "| **Dashboard Creation**         | Bokeh works with `bokeh server` to build custom interactive dashboards      |\n",
    "| **High-Performance Rendering** | Efficient rendering even with large datasets (WebGL support)                |\n",
    "| **Custom JS Callbacks**        | You can integrate JavaScript for advanced interactivity                     |\n",
    "\n"
   ]
  },
  {
   "cell_type": "markdown",
   "id": "a2d255b4-ebef-4b2d-a11b-a463ef41858d",
   "metadata": {},
   "source": [
    "### 17 Explain the difference between apply() and map() in Pandas?"
   ]
  },
  {
   "cell_type": "markdown",
   "id": "6750c6c1-2040-4285-80ce-780343ef1fb4",
   "metadata": {},
   "source": [
    "- In Pandas, both apply() and map() are used to transform or manipulate data, but they are used in different contexts and have different capabilities.\n",
    "##### map() — Element-wise for Series\n",
    "- Works only on Pandas Series (usually one column)\n",
    "- Applies a function element-by-element\n",
    "- Useful for simple transformations\n",
    "##### apply() — More Flexible\n",
    "- Can be used on Series or DataFrames\n",
    "- If used on a Series, it's similar to map() but more flexible\n",
    "- If used on a DataFrame, it applies a function row-wise or column-wise\n",
    "- Supports custom functions, including ones that return multiple values"
   ]
  },
  {
   "cell_type": "markdown",
   "id": "93352a0d-ec3f-4785-9de7-07b12f30721d",
   "metadata": {},
   "source": [
    "### 18 What are some advanced features of NumPy?"
   ]
  },
  {
   "cell_type": "markdown",
   "id": "89b4a8bb-62c0-4f41-8758-31ba2041b7b2",
   "metadata": {},
   "source": [
    "- NumPy is not just for basic array handling — it has many advanced features that make it powerful for scientific computing, machine learning, image processing, and more.\n",
    "1.Broadcasting\n",
    "- Lets NumPy perform operations on arrays of different shapes automatically.\n",
    "- Eliminates the need for manual looping or reshaping.\n",
    "2. Vectorized Operations\n",
    "- Apply operations to whole arrays without explicit loops.\n",
    "- Significantly faster than using pure Python.\n",
    "3. Masked Arrays\n",
    "- Handle invalid or missing data by masking certain values.\n",
    "4. Structured Arrays\n",
    "- Store heterogeneous data types in a single array (like a table with named columns).\n",
    " 5. Fancy Indexing\n",
    "- Allows selecting data using boolean arrays, index arrays, or conditions.\n",
    "6. Memory Mapping of Large Files\n",
    "- Work with large datasets that don't fit into memory using np.memmap.\n",
    "7. Linear Algebra Functions\n",
    "- Efficient matrix operations: inverse, determinant, eigenvalues, etc.\n",
    "8. Fourier Transforms and Signal Processing\n",
    "9. Random Number Generation\n",
    "- Create random numbers, distributions, and perform simulations.\n",
    "10. Matrix Multiplication and Dot Products"
   ]
  },
  {
   "cell_type": "markdown",
   "id": "64b96e34-e0d2-453e-b3c5-2514bedb553f",
   "metadata": {},
   "source": [
    "### 19 How does Pandas simplify time series analysis?"
   ]
  },
  {
   "cell_type": "markdown",
   "id": "78167058-f6f2-42c7-8cee-934e86a5146c",
   "metadata": {},
   "source": [
    "Pandas simplifies time series analysis in Python through its powerful data structures and built-in time-related functionality, making it easy to work with date and time data. Here are the key ways it helps:\n",
    "1. Datetime Indexing and Conversion\n",
    "- You can convert strings or other formats to datetime using pd.to_datetime().\n",
    "- Time series data can be indexed with DatetimeIndex, allowing intuitive date-based slicing.\n",
    " 2. Resampling\n",
    "- Easily aggregate or downsample data to different time frequencies using resample() (e.g., daily to monthly).\n",
    " 3. Shifting and Lagging\n",
    "- shift() and tshift() let you move data forward or backward in time, which is useful for lag analysis or forecasting.\n",
    "4. Rolling and Expanding Windows\n",
    "- Apply window functions (like moving average) using rolling() or expanding().\n",
    "5. Date Range Generation\n",
    "- Pandas can create custom date ranges with pd.date_range() for time series simulation or missing data filling.\n",
    "6. Handling Missing Time Data\n",
    "- Automatically fills or interpolates missing time-based data (ffill(), bfill(), interpolate()).\n"
   ]
  },
  {
   "cell_type": "markdown",
   "id": "356dd70f-756e-449e-9390-fea979399362",
   "metadata": {},
   "source": [
    "### 20. What is the role of a pivot table in Pandas?"
   ]
  },
  {
   "cell_type": "markdown",
   "id": "9c85abd4-14e5-412d-b458-453be6a84c7d",
   "metadata": {},
   "source": [
    "- A pivot table in Pandas is used to summarize, group, and reorganize data efficiently. It’s particularly useful when analyzing large datasets and looking to aggregate data based on one or more keys (like in Excel pivot tables).\n",
    "#### Main Role:\n",
    "- To transform and aggregate data, making it easier to analyze patterns across different dimensions (rows and columns).\n",
    "##### How it works:\n",
    "Pandas uses the pivot_table() function:\n",
    "### Ex-\n",
    "pd.pivot_table(data, \n",
    "               values='column_to_aggregate', \n",
    "               index='row_group', \n",
    "               columns='column_group', \n",
    "               aggfunc='mean')\n"
   ]
  },
  {
   "cell_type": "markdown",
   "id": "763f4cee-4b7e-450e-bfd0-cf839633a9cc",
   "metadata": {},
   "source": [
    "### 21. Why is NumPy’s array slicing faster than Python’s list slicing?"
   ]
  },
  {
   "cell_type": "markdown",
   "id": "3e76ec73-7727-4373-a4e6-d5a44e06d1c1",
   "metadata": {},
   "source": [
    "- NumPy’s array slicing is faster than Python’s list slicing due to several important reasons rooted in performance optimization and memory management.\n",
    "1. Contiguous Memory Allocation\n",
    "- NumPy arrays are stored in a single continuous block of memory, unlike Python lists, which store references to objects scattered in memory.\n",
    "- This allows for faster access and cache-friendly operations during slicing.\n",
    "2. Homogeneous Data Types\n",
    "- All elements in a NumPy array are of the same data type, enabling low-level optimizations.\n",
    "- In contrast, Python lists can hold heterogeneous types, making access and manipulation slower.\n",
    "3. No Data Copying (Views)\n",
    "- NumPy slicing returns a view (a reference to the original array, not a copy), so it's fast and memory-efficient.\n",
    "- Python list slicing always returns a copy of the sliced data.\n",
    "4. Low-Level Implementation (C/Fortran)\n",
    "- NumPy is implemented in C and Fortran, which are much faster than Python.\n",
    "- Array operations are vectorized, eliminating the need for explicit loops in Python."
   ]
  },
  {
   "cell_type": "markdown",
   "id": "d6efb845-abee-4488-926b-447109fedff4",
   "metadata": {},
   "source": [
    "### 22. What are some common use cases for Seaborn?"
   ]
  },
  {
   "cell_type": "markdown",
   "id": "b1c78780-09f1-4324-8464-35505c0a9d70",
   "metadata": {},
   "source": [
    "- Seaborn is a powerful Python data visualization library built on top of Matplotlib. It simplifies the process of creating attractive and informative statistical graphics.\n",
    "- Common Use Cases for Seaborn\n",
    "1. Visualizing Distributions\n",
    "- Analyze the spread and shape of a dataset using:\n",
    "- histplot()\n",
    "- kdeplot()\n",
    "- distplot() (deprecated)\n",
    "\n",
    "2. Categorical Data Visualization\n",
    "Compare categories using:\n",
    "- boxplot() – distribution by category\n",
    "- violinplot() – combines boxplot + KDE\n",
    "- barplot() – mean with confidence intervals\n",
    "- stripplot() or swarmplot() – raw value plots\n",
    "3. Correlation and Heatmaps\n",
    "- Show relationships between multiple variables using a heatmap of correlation matrix:\n",
    "4. Scatter Plots with Regression Lines\n",
    "- Automatically fits regression lines using regplot() or lmplot():\n",
    "5. Time Series Data\n",
    "- Visualize trends over time using lineplot():\n",
    "6. Pairwise Relationships\n",
    "- Use pairplot() to explore pairwise relationships across multiple features:\n",
    "7. Faceted Plots (Multi-plot grids)\n",
    "- Use FacetGrid, catplot(), or relplot() to create subplots based on categories:"
   ]
  },
  {
   "cell_type": "markdown",
   "id": "4b3ac8c9-2bad-469c-a601-61843b7a4fb2",
   "metadata": {},
   "source": [
    "#### Practical"
   ]
  },
  {
   "cell_type": "markdown",
   "id": "59d9edde-710a-4248-a9c4-c2ef298a3f7c",
   "metadata": {},
   "source": [
    "### 1. How do you create a 2D NumPy array and calculate the sum of each row?"
   ]
  },
  {
   "cell_type": "code",
   "execution_count": 13,
   "id": "cfffbeff-598f-489f-be95-c984d8a49663",
   "metadata": {},
   "outputs": [
    {
     "name": "stdout",
     "output_type": "stream",
     "text": [
      "Requirement already satisfied: numpy in c:\\python312\\lib\\site-packages (2.3.1)\n"
     ]
    },
    {
     "name": "stderr",
     "output_type": "stream",
     "text": [
      "\n",
      "[notice] A new release of pip is available: 25.0 -> 25.1.1\n",
      "[notice] To update, run: python.exe -m pip install --upgrade pip\n"
     ]
    }
   ],
   "source": [
    "!pip install numpy"
   ]
  },
  {
   "cell_type": "code",
   "execution_count": 14,
   "id": "1d24fac7-13d7-444d-afa9-7af425652331",
   "metadata": {},
   "outputs": [
    {
     "name": "stdout",
     "output_type": "stream",
     "text": [
      "2D Array:\n",
      " [[1 2 3]\n",
      " [4 5 6]\n",
      " [7 8 9]]\n",
      "Sum of each row: [ 6 15 24]\n"
     ]
    }
   ],
   "source": [
    "import numpy as np\n",
    "\n",
    "array_2d = np.array([\n",
    "    [1, 2, 3],\n",
    "    [4, 5, 6],\n",
    "    [7, 8, 9]\n",
    "])\n",
    "\n",
    "row_sums = np.sum(array_2d, axis=1)\n",
    "\n",
    "print(\"2D Array:\\n\", array_2d)\n",
    "print(\"Sum of each row:\", row_sums)\n"
   ]
  },
  {
   "cell_type": "markdown",
   "id": "f3b07617-d8dc-497f-a57d-34ce18b80188",
   "metadata": {},
   "source": [
    "### 2. Write a Pandas script to find the mean of a specific column in a DataFrame."
   ]
  },
  {
   "cell_type": "code",
   "execution_count": 16,
   "id": "c0c7839c-bf6b-45ee-950a-e855f4ac9b24",
   "metadata": {},
   "outputs": [
    {
     "name": "stdout",
     "output_type": "stream",
     "text": [
      "Collecting pandas\n",
      "  Downloading pandas-2.3.1-cp312-cp312-win_amd64.whl.metadata (19 kB)\n",
      "Requirement already satisfied: numpy>=1.26.0 in c:\\python312\\lib\\site-packages (from pandas) (2.3.1)\n",
      "Requirement already satisfied: python-dateutil>=2.8.2 in c:\\python312\\lib\\site-packages (from pandas) (2.9.0.post0)\n",
      "Collecting pytz>=2020.1 (from pandas)\n",
      "  Downloading pytz-2025.2-py2.py3-none-any.whl.metadata (22 kB)\n",
      "Collecting tzdata>=2022.7 (from pandas)\n",
      "  Downloading tzdata-2025.2-py2.py3-none-any.whl.metadata (1.4 kB)\n",
      "Requirement already satisfied: six>=1.5 in c:\\python312\\lib\\site-packages (from python-dateutil>=2.8.2->pandas) (1.17.0)\n",
      "Downloading pandas-2.3.1-cp312-cp312-win_amd64.whl (11.0 MB)\n",
      "   ---------------------------------------- 0.0/11.0 MB ? eta -:--:--\n",
      "   ---------------------------------------- 0.0/11.0 MB ? eta -:--:--\n",
      "   ---------------------------------------- 0.0/11.0 MB ? eta -:--:--\n",
      "   ---------------------------------------- 0.0/11.0 MB ? eta -:--:--\n",
      "   ---------------------------------------- 0.0/11.0 MB ? eta -:--:--\n",
      "   ---------------------------------------- 0.0/11.0 MB ? eta -:--:--\n",
      "   ---------------------------------------- 0.0/11.0 MB ? eta -:--:--\n",
      "   ---------------------------------------- 0.0/11.0 MB ? eta -:--:--\n",
      "   ---------------------------------------- 0.0/11.0 MB ? eta -:--:--\n",
      "   ---------------------------------------- 0.0/11.0 MB ? eta -:--:--\n",
      "   ---------------------------------------- 0.0/11.0 MB ? eta -:--:--\n",
      "   ---------------------------------------- 0.0/11.0 MB ? eta -:--:--\n",
      "   ---------------------------------------- 0.0/11.0 MB ? eta -:--:--\n",
      "   ---------------------------------------- 0.0/11.0 MB ? eta -:--:--\n",
      "   ---------------------------------------- 0.0/11.0 MB ? eta -:--:--\n",
      "   ---------------------------------------- 0.0/11.0 MB ? eta -:--:--\n",
      "   ---------------------------------------- 0.0/11.0 MB ? eta -:--:--\n",
      "   ---------------------------------------- 0.0/11.0 MB ? eta -:--:--\n",
      "    --------------------------------------- 0.3/11.0 MB ? eta -:--:--\n",
      "    --------------------------------------- 0.3/11.0 MB ? eta -:--:--\n",
      "    --------------------------------------- 0.3/11.0 MB ? eta -:--:--\n",
      "    --------------------------------------- 0.3/11.0 MB ? eta -:--:--\n",
      "    --------------------------------------- 0.3/11.0 MB ? eta -:--:--\n",
      "    --------------------------------------- 0.3/11.0 MB ? eta -:--:--\n",
      "    --------------------------------------- 0.3/11.0 MB ? eta -:--:--\n",
      "    --------------------------------------- 0.3/11.0 MB ? eta -:--:--\n",
      "    --------------------------------------- 0.3/11.0 MB ? eta -:--:--\n",
      "    --------------------------------------- 0.3/11.0 MB ? eta -:--:--\n",
      "    --------------------------------------- 0.3/11.0 MB ? eta -:--:--\n",
      "    --------------------------------------- 0.3/11.0 MB ? eta -:--:--\n",
      "    --------------------------------------- 0.3/11.0 MB ? eta -:--:--\n",
      "    --------------------------------------- 0.3/11.0 MB ? eta -:--:--\n",
      "    --------------------------------------- 0.3/11.0 MB ? eta -:--:--\n",
      "    --------------------------------------- 0.3/11.0 MB ? eta -:--:--\n",
      "    --------------------------------------- 0.3/11.0 MB ? eta -:--:--\n",
      "    --------------------------------------- 0.3/11.0 MB ? eta -:--:--\n",
      "    --------------------------------------- 0.3/11.0 MB ? eta -:--:--\n",
      "    --------------------------------------- 0.3/11.0 MB ? eta -:--:--\n",
      "    --------------------------------------- 0.3/11.0 MB ? eta -:--:--\n",
      "    --------------------------------------- 0.3/11.0 MB ? eta -:--:--\n",
      "    --------------------------------------- 0.3/11.0 MB ? eta -:--:--\n",
      "   - -------------------------------------- 0.5/11.0 MB 54.6 kB/s eta 0:03:12\n",
      "   - -------------------------------------- 0.5/11.0 MB 54.6 kB/s eta 0:03:12\n",
      "   - -------------------------------------- 0.5/11.0 MB 54.6 kB/s eta 0:03:12\n",
      "   - -------------------------------------- 0.5/11.0 MB 54.6 kB/s eta 0:03:12\n",
      "   - -------------------------------------- 0.5/11.0 MB 54.6 kB/s eta 0:03:12\n",
      "   - -------------------------------------- 0.5/11.0 MB 54.6 kB/s eta 0:03:12\n",
      "   - -------------------------------------- 0.5/11.0 MB 54.6 kB/s eta 0:03:12\n",
      "   - -------------------------------------- 0.5/11.0 MB 54.6 kB/s eta 0:03:12\n",
      "   - -------------------------------------- 0.5/11.0 MB 54.6 kB/s eta 0:03:12\n",
      "   - -------------------------------------- 0.5/11.0 MB 54.6 kB/s eta 0:03:12\n",
      "   - -------------------------------------- 0.5/11.0 MB 54.6 kB/s eta 0:03:12\n",
      "   - -------------------------------------- 0.5/11.0 MB 54.6 kB/s eta 0:03:12\n",
      "   - -------------------------------------- 0.5/11.0 MB 54.6 kB/s eta 0:03:12\n",
      "   - -------------------------------------- 0.5/11.0 MB 54.6 kB/s eta 0:03:12\n",
      "   - -------------------------------------- 0.5/11.0 MB 54.6 kB/s eta 0:03:12\n",
      "   -- ------------------------------------- 0.8/11.0 MB 65.5 kB/s eta 0:02:36\n",
      "   -- ------------------------------------- 0.8/11.0 MB 65.5 kB/s eta 0:02:36\n",
      "   -- ------------------------------------- 0.8/11.0 MB 65.5 kB/s eta 0:02:36\n",
      "   -- ------------------------------------- 0.8/11.0 MB 65.5 kB/s eta 0:02:36\n",
      "   -- ------------------------------------- 0.8/11.0 MB 65.5 kB/s eta 0:02:36\n",
      "   -- ------------------------------------- 0.8/11.0 MB 65.5 kB/s eta 0:02:36\n",
      "   -- ------------------------------------- 0.8/11.0 MB 65.5 kB/s eta 0:02:36\n",
      "   -- ------------------------------------- 0.8/11.0 MB 65.5 kB/s eta 0:02:36\n",
      "   -- ------------------------------------- 0.8/11.0 MB 65.5 kB/s eta 0:02:36\n",
      "   -- ------------------------------------- 0.8/11.0 MB 65.5 kB/s eta 0:02:36\n",
      "   -- ------------------------------------- 0.8/11.0 MB 65.5 kB/s eta 0:02:36\n",
      "   --- ------------------------------------ 1.0/11.0 MB 77.1 kB/s eta 0:02:09\n",
      "   --- ------------------------------------ 1.0/11.0 MB 77.1 kB/s eta 0:02:09\n",
      "   --- ------------------------------------ 1.0/11.0 MB 77.1 kB/s eta 0:02:09\n",
      "   --- ------------------------------------ 1.0/11.0 MB 77.1 kB/s eta 0:02:09\n",
      "   --- ------------------------------------ 1.0/11.0 MB 77.1 kB/s eta 0:02:09\n",
      "   --- ------------------------------------ 1.0/11.0 MB 77.1 kB/s eta 0:02:09\n",
      "   --- ------------------------------------ 1.0/11.0 MB 77.1 kB/s eta 0:02:09\n",
      "   --- ------------------------------------ 1.0/11.0 MB 77.1 kB/s eta 0:02:09\n",
      "   --- ------------------------------------ 1.0/11.0 MB 77.1 kB/s eta 0:02:09\n",
      "   --- ------------------------------------ 1.0/11.0 MB 77.1 kB/s eta 0:02:09\n",
      "   --- ------------------------------------ 1.0/11.0 MB 77.1 kB/s eta 0:02:09\n",
      "   --- ------------------------------------ 1.0/11.0 MB 77.1 kB/s eta 0:02:09\n",
      "   --- ------------------------------------ 1.0/11.0 MB 77.1 kB/s eta 0:02:09\n",
      "   --- ------------------------------------ 1.0/11.0 MB 77.1 kB/s eta 0:02:09\n",
      "   --- ------------------------------------ 1.0/11.0 MB 77.1 kB/s eta 0:02:09\n",
      "   --- ------------------------------------ 1.0/11.0 MB 77.1 kB/s eta 0:02:09\n",
      "   --- ------------------------------------ 1.0/11.0 MB 77.1 kB/s eta 0:02:09\n",
      "   --- ------------------------------------ 1.0/11.0 MB 77.1 kB/s eta 0:02:09\n",
      "   --- ------------------------------------ 1.0/11.0 MB 77.1 kB/s eta 0:02:09\n",
      "   --- ------------------------------------ 1.0/11.0 MB 77.1 kB/s eta 0:02:09\n",
      "   --- ------------------------------------ 1.0/11.0 MB 77.1 kB/s eta 0:02:09\n",
      "   ---- ----------------------------------- 1.3/11.0 MB 71.5 kB/s eta 0:02:16\n",
      "   ---- ----------------------------------- 1.3/11.0 MB 71.5 kB/s eta 0:02:16\n",
      "   ---- ----------------------------------- 1.3/11.0 MB 71.5 kB/s eta 0:02:16\n",
      "   ---- ----------------------------------- 1.3/11.0 MB 71.5 kB/s eta 0:02:16\n",
      "   ---- ----------------------------------- 1.3/11.0 MB 71.5 kB/s eta 0:02:16\n",
      "   ---- ----------------------------------- 1.3/11.0 MB 71.5 kB/s eta 0:02:16\n",
      "   ---- ----------------------------------- 1.3/11.0 MB 71.5 kB/s eta 0:02:16\n",
      "   ----- ---------------------------------- 1.6/11.0 MB 80.7 kB/s eta 0:01:57\n",
      "   ----- ---------------------------------- 1.6/11.0 MB 80.7 kB/s eta 0:01:57\n",
      "   ----- ---------------------------------- 1.6/11.0 MB 80.7 kB/s eta 0:01:57\n",
      "   ----- ---------------------------------- 1.6/11.0 MB 80.7 kB/s eta 0:01:57\n",
      "   ----- ---------------------------------- 1.6/11.0 MB 80.7 kB/s eta 0:01:57\n",
      "   ----- ---------------------------------- 1.6/11.0 MB 80.7 kB/s eta 0:01:57\n",
      "   ----- ---------------------------------- 1.6/11.0 MB 80.7 kB/s eta 0:01:57\n",
      "   ----- ---------------------------------- 1.6/11.0 MB 80.7 kB/s eta 0:01:57\n",
      "   ----- ---------------------------------- 1.6/11.0 MB 80.7 kB/s eta 0:01:57\n",
      "   ----- ---------------------------------- 1.6/11.0 MB 80.7 kB/s eta 0:01:57\n",
      "   ----- ---------------------------------- 1.6/11.0 MB 80.7 kB/s eta 0:01:57\n",
      "   ------ --------------------------------- 1.8/11.0 MB 84.4 kB/s eta 0:01:49\n",
      "   ------ --------------------------------- 1.8/11.0 MB 84.4 kB/s eta 0:01:49\n",
      "   ------ --------------------------------- 1.8/11.0 MB 84.4 kB/s eta 0:01:49\n",
      "   ------ --------------------------------- 1.8/11.0 MB 84.4 kB/s eta 0:01:49\n",
      "   ------ --------------------------------- 1.8/11.0 MB 84.4 kB/s eta 0:01:49\n",
      "   ------ --------------------------------- 1.8/11.0 MB 84.4 kB/s eta 0:01:49\n",
      "   ------ --------------------------------- 1.8/11.0 MB 84.4 kB/s eta 0:01:49\n",
      "   ------ --------------------------------- 1.8/11.0 MB 84.4 kB/s eta 0:01:49\n",
      "   ------ --------------------------------- 1.8/11.0 MB 84.4 kB/s eta 0:01:49\n",
      "   ------ --------------------------------- 1.8/11.0 MB 84.4 kB/s eta 0:01:49\n",
      "   ------ --------------------------------- 1.8/11.0 MB 84.4 kB/s eta 0:01:49\n",
      "   ------ --------------------------------- 1.8/11.0 MB 84.4 kB/s eta 0:01:49\n",
      "   ------ --------------------------------- 1.8/11.0 MB 84.4 kB/s eta 0:01:49\n",
      "   ------ --------------------------------- 1.8/11.0 MB 84.4 kB/s eta 0:01:49\n",
      "   ------ --------------------------------- 1.8/11.0 MB 84.4 kB/s eta 0:01:49\n",
      "   ------ --------------------------------- 1.8/11.0 MB 84.4 kB/s eta 0:01:49\n",
      "   ------ --------------------------------- 1.8/11.0 MB 84.4 kB/s eta 0:01:49\n",
      "   ------ --------------------------------- 1.8/11.0 MB 84.4 kB/s eta 0:01:49\n",
      "   ------ --------------------------------- 1.8/11.0 MB 84.4 kB/s eta 0:01:49\n",
      "   ------ --------------------------------- 1.8/11.0 MB 84.4 kB/s eta 0:01:49\n",
      "   ------ --------------------------------- 1.8/11.0 MB 84.4 kB/s eta 0:01:49\n",
      "   ------- -------------------------------- 2.1/11.0 MB 79.5 kB/s eta 0:01:52\n",
      "   ------- -------------------------------- 2.1/11.0 MB 79.5 kB/s eta 0:01:52\n",
      "   ------- -------------------------------- 2.1/11.0 MB 79.5 kB/s eta 0:01:52\n",
      "   ------- -------------------------------- 2.1/11.0 MB 79.5 kB/s eta 0:01:52\n",
      "   ------- -------------------------------- 2.1/11.0 MB 79.5 kB/s eta 0:01:52\n",
      "   ------- -------------------------------- 2.1/11.0 MB 79.5 kB/s eta 0:01:52\n",
      "   ------- -------------------------------- 2.1/11.0 MB 79.5 kB/s eta 0:01:52\n",
      "   ------- -------------------------------- 2.1/11.0 MB 79.5 kB/s eta 0:01:52\n",
      "   ------- -------------------------------- 2.1/11.0 MB 79.5 kB/s eta 0:01:52\n",
      "   ------- -------------------------------- 2.1/11.0 MB 79.5 kB/s eta 0:01:52\n",
      "   ------- -------------------------------- 2.1/11.0 MB 79.5 kB/s eta 0:01:52\n",
      "   ------- -------------------------------- 2.1/11.0 MB 79.5 kB/s eta 0:01:52\n",
      "   ------- -------------------------------- 2.1/11.0 MB 79.5 kB/s eta 0:01:52\n",
      "   ------- -------------------------------- 2.1/11.0 MB 79.5 kB/s eta 0:01:52\n",
      "   -------- ------------------------------- 2.4/11.0 MB 80.5 kB/s eta 0:01:48\n",
      "   -------- ------------------------------- 2.4/11.0 MB 80.5 kB/s eta 0:01:48\n",
      "   -------- ------------------------------- 2.4/11.0 MB 80.5 kB/s eta 0:01:48\n",
      "   -------- ------------------------------- 2.4/11.0 MB 80.5 kB/s eta 0:01:48\n",
      "   -------- ------------------------------- 2.4/11.0 MB 80.5 kB/s eta 0:01:48\n",
      "   --------- ------------------------------ 2.6/11.0 MB 86.8 kB/s eta 0:01:37\n",
      "   --------- ------------------------------ 2.6/11.0 MB 86.8 kB/s eta 0:01:37\n",
      "   --------- ------------------------------ 2.6/11.0 MB 86.8 kB/s eta 0:01:37\n",
      "   --------- ------------------------------ 2.6/11.0 MB 86.8 kB/s eta 0:01:37\n",
      "   --------- ------------------------------ 2.6/11.0 MB 86.8 kB/s eta 0:01:37\n",
      "   --------- ------------------------------ 2.6/11.0 MB 86.8 kB/s eta 0:01:37\n",
      "   --------- ------------------------------ 2.6/11.0 MB 86.8 kB/s eta 0:01:37\n",
      "   ---------- ----------------------------- 2.9/11.0 MB 91.7 kB/s eta 0:01:29\n",
      "   ---------- ----------------------------- 2.9/11.0 MB 91.7 kB/s eta 0:01:29\n",
      "   ---------- ----------------------------- 2.9/11.0 MB 91.7 kB/s eta 0:01:29\n",
      "   ---------- ----------------------------- 2.9/11.0 MB 91.7 kB/s eta 0:01:29\n",
      "   ---------- ----------------------------- 2.9/11.0 MB 91.7 kB/s eta 0:01:29\n",
      "   ---------- ----------------------------- 2.9/11.0 MB 91.7 kB/s eta 0:01:29\n",
      "   ----------- ---------------------------- 3.1/11.0 MB 96.1 kB/s eta 0:01:22\n",
      "   ----------- ---------------------------- 3.1/11.0 MB 96.1 kB/s eta 0:01:22\n",
      "   ----------- ---------------------------- 3.1/11.0 MB 96.1 kB/s eta 0:01:22\n",
      "   ----------- ---------------------------- 3.1/11.0 MB 96.1 kB/s eta 0:01:22\n",
      "   ----------- ---------------------------- 3.1/11.0 MB 96.1 kB/s eta 0:01:22\n",
      "   ----------- ---------------------------- 3.1/11.0 MB 96.1 kB/s eta 0:01:22\n",
      "   ----------- ---------------------------- 3.1/11.0 MB 96.1 kB/s eta 0:01:22\n",
      "   ----------- ---------------------------- 3.1/11.0 MB 96.1 kB/s eta 0:01:22\n",
      "   ----------- ---------------------------- 3.1/11.0 MB 96.1 kB/s eta 0:01:22\n",
      "   ----------- ---------------------------- 3.1/11.0 MB 96.1 kB/s eta 0:01:22\n",
      "   ----------- ---------------------------- 3.1/11.0 MB 96.1 kB/s eta 0:01:22\n",
      "   ------------ --------------------------- 3.4/11.0 MB 105.2 kB/s eta 0:01:13\n",
      "   ------------ --------------------------- 3.4/11.0 MB 105.2 kB/s eta 0:01:13\n",
      "   ------------ --------------------------- 3.4/11.0 MB 105.2 kB/s eta 0:01:13\n",
      "   ------------ --------------------------- 3.4/11.0 MB 105.2 kB/s eta 0:01:13\n",
      "   ------------ --------------------------- 3.4/11.0 MB 105.2 kB/s eta 0:01:13\n",
      "   ------------ --------------------------- 3.4/11.0 MB 105.2 kB/s eta 0:01:13\n",
      "   ------------ --------------------------- 3.4/11.0 MB 105.2 kB/s eta 0:01:13\n",
      "   ------------ --------------------------- 3.4/11.0 MB 105.2 kB/s eta 0:01:13\n",
      "   ------------- -------------------------- 3.7/11.0 MB 107.5 kB/s eta 0:01:09\n",
      "   ------------- -------------------------- 3.7/11.0 MB 107.5 kB/s eta 0:01:09\n",
      "   ------------- -------------------------- 3.7/11.0 MB 107.5 kB/s eta 0:01:09\n",
      "   ------------- -------------------------- 3.7/11.0 MB 107.5 kB/s eta 0:01:09\n",
      "   ------------- -------------------------- 3.7/11.0 MB 107.5 kB/s eta 0:01:09\n",
      "   ------------- -------------------------- 3.7/11.0 MB 107.5 kB/s eta 0:01:09\n",
      "   -------------- ------------------------- 3.9/11.0 MB 115.6 kB/s eta 0:01:02\n",
      "   -------------- ------------------------- 3.9/11.0 MB 115.6 kB/s eta 0:01:02\n",
      "   -------------- ------------------------- 3.9/11.0 MB 115.6 kB/s eta 0:01:02\n",
      "   -------------- ------------------------- 3.9/11.0 MB 115.6 kB/s eta 0:01:02\n",
      "   -------------- ------------------------- 3.9/11.0 MB 115.6 kB/s eta 0:01:02\n",
      "   -------------- ------------------------- 3.9/11.0 MB 115.6 kB/s eta 0:01:02\n",
      "   -------------- ------------------------- 3.9/11.0 MB 115.6 kB/s eta 0:01:02\n",
      "   -------------- ------------------------- 3.9/11.0 MB 115.6 kB/s eta 0:01:02\n",
      "   --------------- ------------------------ 4.2/11.0 MB 117.9 kB/s eta 0:00:58\n",
      "   --------------- ------------------------ 4.2/11.0 MB 117.9 kB/s eta 0:00:58\n",
      "   --------------- ------------------------ 4.2/11.0 MB 117.9 kB/s eta 0:00:58\n",
      "   --------------- ------------------------ 4.2/11.0 MB 117.9 kB/s eta 0:00:58\n",
      "   --------------- ------------------------ 4.2/11.0 MB 117.9 kB/s eta 0:00:58\n",
      "   --------------- ------------------------ 4.2/11.0 MB 117.9 kB/s eta 0:00:58\n",
      "   --------------- ------------------------ 4.2/11.0 MB 117.9 kB/s eta 0:00:58\n",
      "   --------------- ------------------------ 4.2/11.0 MB 117.9 kB/s eta 0:00:58\n",
      "   --------------- ------------------------ 4.2/11.0 MB 117.9 kB/s eta 0:00:58\n",
      "   --------------- ------------------------ 4.2/11.0 MB 117.9 kB/s eta 0:00:58\n",
      "   --------------- ------------------------ 4.2/11.0 MB 117.9 kB/s eta 0:00:58\n",
      "   --------------- ------------------------ 4.2/11.0 MB 117.9 kB/s eta 0:00:58\n",
      "   --------------- ------------------------ 4.2/11.0 MB 117.9 kB/s eta 0:00:58\n",
      "   --------------- ------------------------ 4.2/11.0 MB 117.9 kB/s eta 0:00:58\n",
      "   --------------- ------------------------ 4.2/11.0 MB 117.9 kB/s eta 0:00:58\n",
      "   --------------- ------------------------ 4.2/11.0 MB 117.9 kB/s eta 0:00:58\n",
      "   --------------- ------------------------ 4.2/11.0 MB 117.9 kB/s eta 0:00:58\n",
      "   --------------- ------------------------ 4.2/11.0 MB 117.9 kB/s eta 0:00:58\n",
      "   --------------- ------------------------ 4.2/11.0 MB 117.9 kB/s eta 0:00:58\n",
      "   --------------- ------------------------ 4.2/11.0 MB 117.9 kB/s eta 0:00:58\n",
      "   --------------- ------------------------ 4.2/11.0 MB 117.9 kB/s eta 0:00:58\n",
      "   --------------- ------------------------ 4.2/11.0 MB 117.9 kB/s eta 0:00:58\n",
      "   ---------------- ----------------------- 4.5/11.0 MB 117.0 kB/s eta 0:00:56\n",
      "   ---------------- ----------------------- 4.5/11.0 MB 117.0 kB/s eta 0:00:56\n",
      "   ---------------- ----------------------- 4.5/11.0 MB 117.0 kB/s eta 0:00:56\n",
      "   ---------------- ----------------------- 4.5/11.0 MB 117.0 kB/s eta 0:00:56\n",
      "   ---------------- ----------------------- 4.5/11.0 MB 117.0 kB/s eta 0:00:56\n",
      "   ---------------- ----------------------- 4.5/11.0 MB 117.0 kB/s eta 0:00:56\n",
      "   ---------------- ----------------------- 4.5/11.0 MB 117.0 kB/s eta 0:00:56\n",
      "   ---------------- ----------------------- 4.5/11.0 MB 117.0 kB/s eta 0:00:56\n",
      "   ---------------- ----------------------- 4.5/11.0 MB 117.0 kB/s eta 0:00:56\n",
      "   ---------------- ----------------------- 4.5/11.0 MB 117.0 kB/s eta 0:00:56\n",
      "   ---------------- ----------------------- 4.5/11.0 MB 117.0 kB/s eta 0:00:56\n",
      "   ---------------- ----------------------- 4.5/11.0 MB 117.0 kB/s eta 0:00:56\n",
      "   ---------------- ----------------------- 4.5/11.0 MB 117.0 kB/s eta 0:00:56\n",
      "   ---------------- ----------------------- 4.5/11.0 MB 117.0 kB/s eta 0:00:56\n",
      "   ---------------- ----------------------- 4.5/11.0 MB 117.0 kB/s eta 0:00:56\n",
      "   ---------------- ----------------------- 4.5/11.0 MB 117.0 kB/s eta 0:00:56\n",
      "   ---------------- ----------------------- 4.5/11.0 MB 117.0 kB/s eta 0:00:56\n",
      "   ---------------- ----------------------- 4.5/11.0 MB 117.0 kB/s eta 0:00:56\n",
      "   ----------------- ---------------------- 4.7/11.0 MB 108.2 kB/s eta 0:00:58\n",
      "   ----------------- ---------------------- 4.7/11.0 MB 108.2 kB/s eta 0:00:58\n",
      "   ----------------- ---------------------- 4.7/11.0 MB 108.2 kB/s eta 0:00:58\n",
      "   ----------------- ---------------------- 4.7/11.0 MB 108.2 kB/s eta 0:00:58\n",
      "   ----------------- ---------------------- 4.7/11.0 MB 108.2 kB/s eta 0:00:58\n",
      "   ----------------- ---------------------- 4.7/11.0 MB 108.2 kB/s eta 0:00:58\n",
      "   ----------------- ---------------------- 4.7/11.0 MB 108.2 kB/s eta 0:00:58\n",
      "   ----------------- ---------------------- 4.7/11.0 MB 108.2 kB/s eta 0:00:58\n",
      "   ----------------- ---------------------- 4.7/11.0 MB 108.2 kB/s eta 0:00:58\n",
      "   ----------------- ---------------------- 4.7/11.0 MB 108.2 kB/s eta 0:00:58\n",
      "   ----------------- ---------------------- 4.7/11.0 MB 108.2 kB/s eta 0:00:58\n",
      "   ----------------- ---------------------- 4.7/11.0 MB 108.2 kB/s eta 0:00:58\n",
      "   ----------------- ---------------------- 4.7/11.0 MB 108.2 kB/s eta 0:00:58\n",
      "   ----------------- ---------------------- 4.7/11.0 MB 108.2 kB/s eta 0:00:58\n",
      "   ----------------- ---------------------- 4.7/11.0 MB 108.2 kB/s eta 0:00:58\n",
      "   ----------------- ---------------------- 4.7/11.0 MB 108.2 kB/s eta 0:00:58\n",
      "   ------------------ --------------------- 5.0/11.0 MB 111.8 kB/s eta 0:00:54\n",
      "   ------------------ --------------------- 5.0/11.0 MB 111.8 kB/s eta 0:00:54\n",
      "   ------------------ --------------------- 5.0/11.0 MB 111.8 kB/s eta 0:00:54\n",
      "   ------------------ --------------------- 5.0/11.0 MB 111.8 kB/s eta 0:00:54\n",
      "   ------------------ --------------------- 5.0/11.0 MB 111.8 kB/s eta 0:00:54\n",
      "   ------------------ --------------------- 5.0/11.0 MB 111.8 kB/s eta 0:00:54\n",
      "   ------------------ --------------------- 5.0/11.0 MB 111.8 kB/s eta 0:00:54\n",
      "   ------------------ --------------------- 5.0/11.0 MB 111.8 kB/s eta 0:00:54\n",
      "   ------------------ --------------------- 5.0/11.0 MB 111.8 kB/s eta 0:00:54\n",
      "   ------------------ --------------------- 5.0/11.0 MB 111.8 kB/s eta 0:00:54\n",
      "   ------------------- -------------------- 5.2/11.0 MB 113.5 kB/s eta 0:00:51\n",
      "   ------------------- -------------------- 5.2/11.0 MB 113.5 kB/s eta 0:00:51\n",
      "   ------------------- -------------------- 5.2/11.0 MB 113.5 kB/s eta 0:00:51\n",
      "   ------------------- -------------------- 5.2/11.0 MB 113.5 kB/s eta 0:00:51\n",
      "   ------------------- -------------------- 5.2/11.0 MB 113.5 kB/s eta 0:00:51\n",
      "   ------------------- -------------------- 5.2/11.0 MB 113.5 kB/s eta 0:00:51\n",
      "   ------------------- -------------------- 5.2/11.0 MB 113.5 kB/s eta 0:00:51\n",
      "   ------------------- -------------------- 5.2/11.0 MB 113.5 kB/s eta 0:00:51\n",
      "   ------------------- -------------------- 5.2/11.0 MB 113.5 kB/s eta 0:00:51\n",
      "   ------------------- -------------------- 5.2/11.0 MB 113.5 kB/s eta 0:00:51\n",
      "   ------------------- -------------------- 5.2/11.0 MB 113.5 kB/s eta 0:00:51\n",
      "   ------------------- -------------------- 5.2/11.0 MB 113.5 kB/s eta 0:00:51\n",
      "   ------------------- -------------------- 5.2/11.0 MB 113.5 kB/s eta 0:00:51\n",
      "   ------------------- -------------------- 5.2/11.0 MB 113.5 kB/s eta 0:00:51\n",
      "   -------------------- ------------------- 5.5/11.0 MB 113.1 kB/s eta 0:00:49\n",
      "   -------------------- ------------------- 5.5/11.0 MB 113.1 kB/s eta 0:00:49\n",
      "   -------------------- ------------------- 5.5/11.0 MB 113.1 kB/s eta 0:00:49\n",
      "   -------------------- ------------------- 5.5/11.0 MB 113.1 kB/s eta 0:00:49\n",
      "   -------------------- ------------------- 5.5/11.0 MB 113.1 kB/s eta 0:00:49\n",
      "   -------------------- ------------------- 5.5/11.0 MB 113.1 kB/s eta 0:00:49\n",
      "   -------------------- ------------------- 5.5/11.0 MB 113.1 kB/s eta 0:00:49\n",
      "   -------------------- ------------------- 5.5/11.0 MB 113.1 kB/s eta 0:00:49\n",
      "   -------------------- ------------------- 5.5/11.0 MB 113.1 kB/s eta 0:00:49\n",
      "   -------------------- ------------------- 5.8/11.0 MB 114.2 kB/s eta 0:00:46\n",
      "   -------------------- ------------------- 5.8/11.0 MB 114.2 kB/s eta 0:00:46\n",
      "   -------------------- ------------------- 5.8/11.0 MB 114.2 kB/s eta 0:00:46\n",
      "   -------------------- ------------------- 5.8/11.0 MB 114.2 kB/s eta 0:00:46\n",
      "   -------------------- ------------------- 5.8/11.0 MB 114.2 kB/s eta 0:00:46\n",
      "   -------------------- ------------------- 5.8/11.0 MB 114.2 kB/s eta 0:00:46\n",
      "   -------------------- ------------------- 5.8/11.0 MB 114.2 kB/s eta 0:00:46\n",
      "   -------------------- ------------------- 5.8/11.0 MB 114.2 kB/s eta 0:00:46\n",
      "   --------------------- ------------------ 6.0/11.0 MB 108.5 kB/s eta 0:00:46\n",
      "   --------------------- ------------------ 6.0/11.0 MB 108.5 kB/s eta 0:00:46\n",
      "   ---------------------- ----------------- 6.3/11.0 MB 116.1 kB/s eta 0:00:41\n",
      "   ----------------------- ---------------- 6.6/11.0 MB 123.8 kB/s eta 0:00:36\n",
      "   ----------------------- ---------------- 6.6/11.0 MB 123.8 kB/s eta 0:00:36\n",
      "   ------------------------ --------------- 6.8/11.0 MB 131.3 kB/s eta 0:00:32\n",
      "   ------------------------ --------------- 6.8/11.0 MB 131.3 kB/s eta 0:00:32\n",
      "   ------------------------- -------------- 7.1/11.0 MB 135.6 kB/s eta 0:00:29\n",
      "   -------------------------- ------------- 7.3/11.0 MB 143.0 kB/s eta 0:00:26\n",
      "   -------------------------- ------------- 7.3/11.0 MB 143.0 kB/s eta 0:00:26\n",
      "   --------------------------- ------------ 7.6/11.0 MB 150.0 kB/s eta 0:00:23\n",
      "   --------------------------- ------------ 7.6/11.0 MB 150.0 kB/s eta 0:00:23\n",
      "   ---------------------------- ----------- 7.9/11.0 MB 159.6 kB/s eta 0:00:20\n",
      "   ---------------------------- ----------- 7.9/11.0 MB 159.6 kB/s eta 0:00:20\n",
      "   ---------------------------- ----------- 7.9/11.0 MB 159.6 kB/s eta 0:00:20\n",
      "   ----------------------------- ---------- 8.1/11.0 MB 165.0 kB/s eta 0:00:18\n",
      "   ----------------------------- ---------- 8.1/11.0 MB 165.0 kB/s eta 0:00:18\n",
      "   ----------------------------- ---------- 8.1/11.0 MB 165.0 kB/s eta 0:00:18\n",
      "   ------------------------------ --------- 8.4/11.0 MB 170.2 kB/s eta 0:00:16\n",
      "   ------------------------------ --------- 8.4/11.0 MB 170.2 kB/s eta 0:00:16\n",
      "   ------------------------------ --------- 8.4/11.0 MB 170.2 kB/s eta 0:00:16\n",
      "   ------------------------------- -------- 8.7/11.0 MB 176.0 kB/s eta 0:00:14\n",
      "   ------------------------------- -------- 8.7/11.0 MB 176.0 kB/s eta 0:00:14\n",
      "   -------------------------------- ------- 8.9/11.0 MB 185.3 kB/s eta 0:00:12\n",
      "   --------------------------------- ------ 9.2/11.0 MB 191.9 kB/s eta 0:00:10\n",
      "   --------------------------------- ------ 9.2/11.0 MB 191.9 kB/s eta 0:00:10\n",
      "   --------------------------------- ------ 9.2/11.0 MB 191.9 kB/s eta 0:00:10\n",
      "   --------------------------------- ------ 9.2/11.0 MB 191.9 kB/s eta 0:00:10\n",
      "   ---------------------------------- ----- 9.4/11.0 MB 195.6 kB/s eta 0:00:08\n",
      "   ---------------------------------- ----- 9.4/11.0 MB 195.6 kB/s eta 0:00:08\n",
      "   ---------------------------------- ----- 9.4/11.0 MB 195.6 kB/s eta 0:00:08\n",
      "   ---------------------------------- ----- 9.4/11.0 MB 195.6 kB/s eta 0:00:08\n",
      "   ----------------------------------- ---- 9.7/11.0 MB 198.3 kB/s eta 0:00:07\n",
      "   ----------------------------------- ---- 9.7/11.0 MB 198.3 kB/s eta 0:00:07\n",
      "   ----------------------------------- ---- 9.7/11.0 MB 198.3 kB/s eta 0:00:07\n",
      "   ----------------------------------- ---- 9.7/11.0 MB 198.3 kB/s eta 0:00:07\n",
      "   ------------------------------------ --- 10.0/11.0 MB 201.4 kB/s eta 0:00:06\n",
      "   ------------------------------------ --- 10.0/11.0 MB 201.4 kB/s eta 0:00:06\n",
      "   ------------------------------------ --- 10.0/11.0 MB 201.4 kB/s eta 0:00:06\n",
      "   ------------------------------------ --- 10.0/11.0 MB 201.4 kB/s eta 0:00:06\n",
      "   ------------------------------------ --- 10.0/11.0 MB 201.4 kB/s eta 0:00:06\n",
      "   ------------------------------------ --- 10.0/11.0 MB 201.4 kB/s eta 0:00:06\n",
      "   ------------------------------------ --- 10.0/11.0 MB 201.4 kB/s eta 0:00:06\n",
      "   ------------------------------------- -- 10.2/11.0 MB 202.0 kB/s eta 0:00:04\n",
      "   ------------------------------------- -- 10.2/11.0 MB 202.0 kB/s eta 0:00:04\n",
      "   ------------------------------------- -- 10.2/11.0 MB 202.0 kB/s eta 0:00:04\n",
      "   ------------------------------------- -- 10.2/11.0 MB 202.0 kB/s eta 0:00:04\n",
      "   ------------------------------------- -- 10.2/11.0 MB 202.0 kB/s eta 0:00:04\n",
      "   -------------------------------------- - 10.5/11.0 MB 229.6 kB/s eta 0:00:03\n",
      "   -------------------------------------- - 10.5/11.0 MB 229.6 kB/s eta 0:00:03\n",
      "   -------------------------------------- - 10.5/11.0 MB 229.6 kB/s eta 0:00:03\n",
      "   -------------------------------------- - 10.5/11.0 MB 229.6 kB/s eta 0:00:03\n",
      "   -------------------------------------- - 10.5/11.0 MB 229.6 kB/s eta 0:00:03\n",
      "   ---------------------------------------  10.7/11.0 MB 230.6 kB/s eta 0:00:02\n",
      "   ---------------------------------------  10.7/11.0 MB 230.6 kB/s eta 0:00:02\n",
      "   ---------------------------------------  10.7/11.0 MB 230.6 kB/s eta 0:00:02\n",
      "   ---------------------------------------  10.7/11.0 MB 230.6 kB/s eta 0:00:02\n",
      "   ---------------------------------------  10.7/11.0 MB 230.6 kB/s eta 0:00:02\n",
      "   ---------------------------------------  10.7/11.0 MB 230.6 kB/s eta 0:00:02\n",
      "   ---------------------------------------- 11.0/11.0 MB 228.5 kB/s eta 0:00:00\n",
      "Downloading pytz-2025.2-py2.py3-none-any.whl (509 kB)\n",
      "Downloading tzdata-2025.2-py2.py3-none-any.whl (347 kB)\n",
      "Installing collected packages: pytz, tzdata, pandas\n",
      "Successfully installed pandas-2.3.1 pytz-2025.2 tzdata-2025.2\n"
     ]
    },
    {
     "name": "stderr",
     "output_type": "stream",
     "text": [
      "\n",
      "[notice] A new release of pip is available: 25.0 -> 25.1.1\n",
      "[notice] To update, run: python.exe -m pip install --upgrade pip\n"
     ]
    },
    {
     "name": "stdout",
     "output_type": "stream",
     "text": [
      "Mean Salary: 65000.0\n"
     ]
    }
   ],
   "source": [
    "!pip install pandas\n",
    "\n",
    "import pandas as pd\n",
    "\n",
    "# Sample DataFrame (You can replace this with your actual data)\n",
    "data = {\n",
    "    'Name': ['Alice', 'Bob', 'Charlie', 'David'],\n",
    "    'Age': [25, 30, 35, 40],\n",
    "    'Salary': [50000, 60000, 70000, 80000]\n",
    "}\n",
    "\n",
    "# Create the DataFrameA\n",
    "DataFrameA = pd.DataFrame(data)\n",
    "\n",
    "# Calculate the mean of a specific column (e.g., 'Salary')\n",
    "mean_salary = DataFrameA['Salary'].mean()\n",
    "\n",
    "# Display the result\n",
    "print(\"Mean Salary:\", mean_salary)\n"
   ]
  },
  {
   "cell_type": "markdown",
   "id": "760f3063-1bda-4d9d-8fec-966f8412acd5",
   "metadata": {},
   "source": [
    "### 3. Create a scatter plot using Matplotlib."
   ]
  },
  {
   "cell_type": "code",
   "execution_count": null,
   "id": "e4ecc606-a7e9-4b2c-8fa8-da4197ab5e68",
   "metadata": {},
   "outputs": [],
   "source": [
    "import matplotlib.pyplot as plt\n",
    "\n",
    "# Sample data\n",
    "x = [10, 20, 30, 40, 50]\n",
    "y = [15, 25, 35, 30, 45]\n",
    "\n",
    "# Create the scatter plot\n",
    "plt.scatter(x, y, color='blue', marker='o')\n",
    "\n",
    "# Add labels and title\n",
    "plt.xlabel('X Axis Label')\n",
    "plt.ylabel('Y Axis Label')\n",
    "plt.title('Sample Scatter Plot')\n",
    "\n",
    "# Show the plot\n",
    "plt.show()\n"
   ]
  },
  {
   "cell_type": "markdown",
   "id": "81cbf296-23c3-4c39-ba57-8ec542ecbd65",
   "metadata": {},
   "source": [
    "### 4. How do you calculate the correlation matrix using Seaborn and visualize it with a heatmap?"
   ]
  },
  {
   "cell_type": "code",
   "execution_count": 19,
   "id": "1c2656e9-c88d-4dd6-899e-e953144c2cc2",
   "metadata": {},
   "outputs": [
    {
     "name": "stdout",
     "output_type": "stream",
     "text": [
      "Collecting seaborn\n",
      "  Downloading seaborn-0.13.2-py3-none-any.whl.metadata (5.4 kB)\n",
      "Requirement already satisfied: numpy!=1.24.0,>=1.20 in c:\\python312\\lib\\site-packages (from seaborn) (2.3.1)\n",
      "Requirement already satisfied: pandas>=1.2 in c:\\python312\\lib\\site-packages (from seaborn) (2.3.1)\n",
      "Collecting matplotlib!=3.6.1,>=3.4 (from seaborn)\n",
      "  Downloading matplotlib-3.10.3-cp312-cp312-win_amd64.whl.metadata (11 kB)\n",
      "Collecting contourpy>=1.0.1 (from matplotlib!=3.6.1,>=3.4->seaborn)\n",
      "  Downloading contourpy-1.3.2-cp312-cp312-win_amd64.whl.metadata (5.5 kB)\n",
      "Collecting cycler>=0.10 (from matplotlib!=3.6.1,>=3.4->seaborn)\n",
      "  Downloading cycler-0.12.1-py3-none-any.whl.metadata (3.8 kB)\n",
      "Collecting fonttools>=4.22.0 (from matplotlib!=3.6.1,>=3.4->seaborn)\n",
      "  Downloading fonttools-4.59.0-cp312-cp312-win_amd64.whl.metadata (110 kB)\n",
      "Collecting kiwisolver>=1.3.1 (from matplotlib!=3.6.1,>=3.4->seaborn)\n",
      "  Downloading kiwisolver-1.4.8-cp312-cp312-win_amd64.whl.metadata (6.3 kB)\n",
      "Requirement already satisfied: packaging>=20.0 in c:\\python312\\lib\\site-packages (from matplotlib!=3.6.1,>=3.4->seaborn) (25.0)\n",
      "Requirement already satisfied: pillow>=8 in c:\\python312\\lib\\site-packages (from matplotlib!=3.6.1,>=3.4->seaborn) (11.1.0)\n",
      "Collecting pyparsing>=2.3.1 (from matplotlib!=3.6.1,>=3.4->seaborn)\n",
      "  Downloading pyparsing-3.2.3-py3-none-any.whl.metadata (5.0 kB)\n",
      "Requirement already satisfied: python-dateutil>=2.7 in c:\\python312\\lib\\site-packages (from matplotlib!=3.6.1,>=3.4->seaborn) (2.9.0.post0)\n",
      "Requirement already satisfied: pytz>=2020.1 in c:\\python312\\lib\\site-packages (from pandas>=1.2->seaborn) (2025.2)\n",
      "Requirement already satisfied: tzdata>=2022.7 in c:\\python312\\lib\\site-packages (from pandas>=1.2->seaborn) (2025.2)\n",
      "Requirement already satisfied: six>=1.5 in c:\\python312\\lib\\site-packages (from python-dateutil>=2.7->matplotlib!=3.6.1,>=3.4->seaborn) (1.17.0)\n",
      "Downloading seaborn-0.13.2-py3-none-any.whl (294 kB)\n",
      "Downloading matplotlib-3.10.3-cp312-cp312-win_amd64.whl (8.1 MB)\n",
      "   ---------------------------------------- 0.0/8.1 MB ? eta -:--:--\n",
      "   ---------------------------------------- 0.0/8.1 MB ? eta -:--:--\n",
      "   - -------------------------------------- 0.3/8.1 MB ? eta -:--:--\n",
      "   - -------------------------------------- 0.3/8.1 MB ? eta -:--:--\n",
      "   -- ------------------------------------- 0.5/8.1 MB 621.2 kB/s eta 0:00:13\n",
      "   -- ------------------------------------- 0.5/8.1 MB 621.2 kB/s eta 0:00:13\n",
      "   --- ------------------------------------ 0.8/8.1 MB 657.8 kB/s eta 0:00:12\n",
      "   --- ------------------------------------ 0.8/8.1 MB 657.8 kB/s eta 0:00:12\n",
      "   ----- ---------------------------------- 1.0/8.1 MB 680.3 kB/s eta 0:00:11\n",
      "   ----- ---------------------------------- 1.0/8.1 MB 680.3 kB/s eta 0:00:11\n",
      "   ------ --------------------------------- 1.3/8.1 MB 692.1 kB/s eta 0:00:10\n",
      "   ------- -------------------------------- 1.6/8.1 MB 699.0 kB/s eta 0:00:10\n",
      "   ------- -------------------------------- 1.6/8.1 MB 699.0 kB/s eta 0:00:10\n",
      "   --------- ------------------------------ 1.8/8.1 MB 689.5 kB/s eta 0:00:10\n",
      "   --------- ------------------------------ 1.8/8.1 MB 689.5 kB/s eta 0:00:10\n",
      "   ---------- ----------------------------- 2.1/8.1 MB 695.1 kB/s eta 0:00:09\n",
      "   ---------- ----------------------------- 2.1/8.1 MB 695.1 kB/s eta 0:00:09\n",
      "   ----------- ---------------------------- 2.4/8.1 MB 699.0 kB/s eta 0:00:09\n",
      "   ------------ --------------------------- 2.6/8.1 MB 699.0 kB/s eta 0:00:08\n",
      "   ------------ --------------------------- 2.6/8.1 MB 699.0 kB/s eta 0:00:08\n",
      "   -------------- ------------------------- 2.9/8.1 MB 699.0 kB/s eta 0:00:08\n",
      "   -------------- ------------------------- 2.9/8.1 MB 699.0 kB/s eta 0:00:08\n",
      "   --------------- ------------------------ 3.1/8.1 MB 699.0 kB/s eta 0:00:08\n",
      "   --------------- ------------------------ 3.1/8.1 MB 699.0 kB/s eta 0:00:08\n",
      "   ---------------- ----------------------- 3.4/8.1 MB 701.5 kB/s eta 0:00:07\n",
      "   ------------------ --------------------- 3.7/8.1 MB 703.5 kB/s eta 0:00:07\n",
      "   ------------------ --------------------- 3.7/8.1 MB 703.5 kB/s eta 0:00:07\n",
      "   ------------------- -------------------- 3.9/8.1 MB 694.9 kB/s eta 0:00:06\n",
      "   ------------------- -------------------- 3.9/8.1 MB 694.9 kB/s eta 0:00:06\n",
      "   -------------------- ------------------- 4.2/8.1 MB 697.2 kB/s eta 0:00:06\n",
      "   ---------------------- ----------------- 4.5/8.1 MB 697.3 kB/s eta 0:00:06\n",
      "   ---------------------- ----------------- 4.5/8.1 MB 697.3 kB/s eta 0:00:06\n",
      "   ----------------------- ---------------- 4.7/8.1 MB 699.0 kB/s eta 0:00:05\n",
      "   ----------------------- ---------------- 4.7/8.1 MB 699.0 kB/s eta 0:00:05\n",
      "   ------------------------ --------------- 5.0/8.1 MB 700.7 kB/s eta 0:00:05\n",
      "   ------------------------ --------------- 5.0/8.1 MB 700.7 kB/s eta 0:00:05\n",
      "   ------------------------- -------------- 5.2/8.1 MB 700.6 kB/s eta 0:00:05\n",
      "   --------------------------- ------------ 5.5/8.1 MB 702.0 kB/s eta 0:00:04\n",
      "   --------------------------- ------------ 5.5/8.1 MB 702.0 kB/s eta 0:00:04\n",
      "   ---------------------------- ----------- 5.8/8.1 MB 701.8 kB/s eta 0:00:04\n",
      "   ---------------------------- ----------- 5.8/8.1 MB 701.8 kB/s eta 0:00:04\n",
      "   ----------------------------- ---------- 6.0/8.1 MB 701.7 kB/s eta 0:00:03\n",
      "   ------------------------------- -------- 6.3/8.1 MB 702.9 kB/s eta 0:00:03\n",
      "   ------------------------------- -------- 6.3/8.1 MB 702.9 kB/s eta 0:00:03\n",
      "   -------------------------------- ------- 6.6/8.1 MB 707.7 kB/s eta 0:00:03\n",
      "   ----------------------------------- ---- 7.1/8.1 MB 738.1 kB/s eta 0:00:02\n",
      "   ------------------------------------- -- 7.6/8.1 MB 775.2 kB/s eta 0:00:01\n",
      "   -------------------------------------- - 7.9/8.1 MB 795.0 kB/s eta 0:00:01\n",
      "   ---------------------------------------- 8.1/8.1 MB 804.5 kB/s eta 0:00:00\n",
      "Downloading contourpy-1.3.2-cp312-cp312-win_amd64.whl (223 kB)\n",
      "Downloading cycler-0.12.1-py3-none-any.whl (8.3 kB)\n",
      "Downloading fonttools-4.59.0-cp312-cp312-win_amd64.whl (2.2 MB)\n",
      "   ---------------------------------------- 0.0/2.2 MB ? eta -:--:--\n",
      "   --------- ------------------------------ 0.5/2.2 MB 3.4 MB/s eta 0:00:01\n",
      "   ----------------------- ---------------- 1.3/2.2 MB 3.5 MB/s eta 0:00:01\n",
      "   -------------------------------- ------- 1.8/2.2 MB 3.2 MB/s eta 0:00:01\n",
      "   ---------------------------------------- 2.2/2.2 MB 3.2 MB/s eta 0:00:00\n",
      "Downloading kiwisolver-1.4.8-cp312-cp312-win_amd64.whl (71 kB)\n",
      "Downloading pyparsing-3.2.3-py3-none-any.whl (111 kB)\n",
      "Installing collected packages: pyparsing, kiwisolver, fonttools, cycler, contourpy, matplotlib, seaborn\n",
      "Successfully installed contourpy-1.3.2 cycler-0.12.1 fonttools-4.59.0 kiwisolver-1.4.8 matplotlib-3.10.3 pyparsing-3.2.3 seaborn-0.13.2\n"
     ]
    },
    {
     "name": "stderr",
     "output_type": "stream",
     "text": [
      "\n",
      "[notice] A new release of pip is available: 25.0 -> 25.1.1\n",
      "[notice] To update, run: python.exe -m pip install --upgrade pip\n"
     ]
    },
    {
     "data": {
      "image/png": "[encoded data removed]",
      "text/plain": [
       "<Figure size 800x600 with 2 Axes>"
      ]
     },
     "metadata": {},
     "output_type": "display_data"
    }
   ],
   "source": [
    "!pip install seaborn\n",
    "import pandas as pd\n",
    "import seaborn as sns\n",
    "import matplotlib.pyplot as plt\n",
    "\n",
    "# Sample data\n",
    "data = {\n",
    "    'Math': [90, 80, 70, 60, 50],\n",
    "    'Science': [88, 76, 74, 65, 58],\n",
    "    'English': [85, 78, 70, 65, 60],\n",
    "    'History': [70, 72, 68, 60, 55]\n",
    "}\n",
    "\n",
    "# Create a DataFrame\n",
    "df = pd.DataFrame(data)\n",
    "\n",
    "# Calculate the correlation matrix\n",
    "corr_matrix = df.corr()\n",
    "\n",
    "# Display the correlation matrix as a heatmap\n",
    "plt.figure(figsize=(8, 6))  # Optional: adjust the plot size\n",
    "sns.heatmap(corr_matrix, annot=True, cmap='coolwarm', fmt=\".2f\", linewidths=0.5)\n",
    "\n",
    "plt.title('Correlation Matrix Heatmap')\n",
    "plt.show()\n"
   ]
  },
  {
   "cell_type": "markdown",
   "id": "b286d74c-cf47-430f-b384-0087742da4cd",
   "metadata": {},
   "source": [
    "### 5. Generate a bar plot using Plotly."
   ]
  },
  {
   "cell_type": "code",
   "execution_count": 20,
   "id": "60821ed1-8a00-4ea6-9a5d-a01be9419257",
   "metadata": {},
   "outputs": [
    {
     "name": "stdout",
     "output_type": "stream",
     "text": [
      "Collecting plotly\n",
      "  Downloading plotly-6.2.0-py3-none-any.whl.metadata (8.5 kB)\n",
      "Collecting narwhals>=1.15.1 (from plotly)\n",
      "  Downloading narwhals-1.47.1-py3-none-any.whl.metadata (11 kB)\n",
      "Requirement already satisfied: packaging in c:\\python312\\lib\\site-packages (from plotly) (25.0)\n",
      "Downloading plotly-6.2.0-py3-none-any.whl (9.6 MB)\n",
      "   ---------------------------------------- 0.0/9.6 MB ? eta -:--:--\n",
      "   - -------------------------------------- 0.3/9.6 MB ? eta -:--:--\n",
      "   -- ------------------------------------- 0.5/9.6 MB 2.4 MB/s eta 0:00:04\n",
      "   ---- ----------------------------------- 1.0/9.6 MB 1.9 MB/s eta 0:00:05\n",
      "   ------ --------------------------------- 1.6/9.6 MB 2.2 MB/s eta 0:00:04\n",
      "   -------- ------------------------------- 2.1/9.6 MB 2.2 MB/s eta 0:00:04\n",
      "   ---------- ----------------------------- 2.6/9.6 MB 2.3 MB/s eta 0:00:04\n",
      "   ------------- -------------------------- 3.1/9.6 MB 2.3 MB/s eta 0:00:03\n",
      "   --------------- ------------------------ 3.7/9.6 MB 2.3 MB/s eta 0:00:03\n",
      "   ----------------- ---------------------- 4.2/9.6 MB 2.3 MB/s eta 0:00:03\n",
      "   ------------------- -------------------- 4.7/9.6 MB 2.3 MB/s eta 0:00:03\n",
      "   --------------------- ------------------ 5.2/9.6 MB 2.3 MB/s eta 0:00:02\n",
      "   ------------------------- -------------- 6.0/9.6 MB 2.4 MB/s eta 0:00:02\n",
      "   --------------------------- ------------ 6.6/9.6 MB 2.4 MB/s eta 0:00:02\n",
      "   ----------------------------- ---------- 7.1/9.6 MB 2.4 MB/s eta 0:00:02\n",
      "   ------------------------------- -------- 7.6/9.6 MB 2.4 MB/s eta 0:00:01\n",
      "   --------------------------------- ------ 8.1/9.6 MB 2.5 MB/s eta 0:00:01\n",
      "   ----------------------------------- ---- 8.7/9.6 MB 2.5 MB/s eta 0:00:01\n",
      "   -------------------------------------- - 9.2/9.6 MB 2.5 MB/s eta 0:00:01\n",
      "   ---------------------------------------  9.4/9.6 MB 2.5 MB/s eta 0:00:01\n",
      "   ---------------------------------------- 9.6/9.6 MB 2.3 MB/s eta 0:00:00\n",
      "Downloading narwhals-1.47.1-py3-none-any.whl (375 kB)\n",
      "Installing collected packages: narwhals, plotly\n",
      "Successfully installed narwhals-1.47.1 plotly-6.2.0\n"
     ]
    },
    {
     "name": "stderr",
     "output_type": "stream",
     "text": [
      "\n",
      "[notice] A new release of pip is available: 25.0 -> 25.1.1\n",
      "[notice] To update, run: python.exe -m pip install --upgrade pip\n"
     ]
    }
   ],
   "source": [
    "!pip install plotly\n"
   ]
  },
  {
   "cell_type": "markdown",
   "id": "c1be3868-6d83-4628-b1ec-4024195df9e4",
   "metadata": {},
   "source": [
    "### 5. Generate a bar plot using Plotly."
   ]
  },
  {
   "cell_type": "code",
   "execution_count": 25,
   "id": "fb64ada6-a7b0-4f57-9b65-6386261e60d2",
   "metadata": {},
   "outputs": [
    {
     "name": "stdout",
     "output_type": "stream",
     "text": [
      "Requirement already satisfied: plotly in c:\\python312\\lib\\site-packages (6.2.0)\n",
      "Requirement already satisfied: narwhals>=1.15.1 in c:\\python312\\lib\\site-packages (from plotly) (1.47.1)\n",
      "Requirement already satisfied: packaging in c:\\python312\\lib\\site-packages (from plotly) (25.0)\n"
     ]
    },
    {
     "name": "stderr",
     "output_type": "stream",
     "text": [
      "\n",
      "[notice] A new release of pip is available: 25.0 -> 25.1.1\n",
      "[notice] To update, run: python.exe -m pip install --upgrade pip\n"
     ]
    },
    {
     "data": {
      "application/vnd.plotly.v1+json": {
       "config": {
        "plotlyServerURL": "https://plot.ly"
       },
       "data": [
        {
         "hovertemplate": "Fruits=%{x}<br>Quantity=%{y}<extra></extra>",
         "legendgroup": "Apples",
         "marker": {
          "color": "#636efa",
          "pattern": {
           "shape": ""
          }
         },
         "name": "Apples",
         "orientation": "v",
         "showlegend": true,
         "textposition": "auto",
         "type": "bar",
         "x": [
          "Apples"
         ],
         "xaxis": "x",
         "y": {
          "bdata": "Mg==",
          "dtype": "i1"
         },
         "yaxis": "y"
        },
        {
         "hovertemplate": "Fruits=%{x}<br>Quantity=%{y}<extra></extra>",
         "legendgroup": "Bananas",
         "marker": {
          "color": "#EF553B",
          "pattern": {
           "shape": ""
          }
         },
         "name": "Bananas",
         "orientation": "v",
         "showlegend": true,
         "textposition": "auto",
         "type": "bar",
         "x": [
          "Bananas"
         ],
         "xaxis": "x",
         "y": {
          "bdata": "Sw==",
          "dtype": "i1"
         },
         "yaxis": "y"
        },
        {
         "hovertemplate": "Fruits=%{x}<br>Quantity=%{y}<extra></extra>",
         "legendgroup": "Cherries",
         "marker": {
          "color": "#00cc96",
          "pattern": {
           "shape": ""
          }
         },
         "name": "Cherries",
         "orientation": "v",
         "showlegend": true,
         "textposition": "auto",
         "type": "bar",
         "x": [
          "Cherries"
         ],
         "xaxis": "x",
         "y": {
          "bdata": "Hg==",
          "dtype": "i1"
         },
         "yaxis": "y"
        },
        {
         "hovertemplate": "Fruits=%{x}<br>Quantity=%{y}<extra></extra>",
         "legendgroup": "Dates",
         "marker": {
          "color": "#ab63fa",
          "pattern": {
           "shape": ""
          }
         },
         "name": "Dates",
         "orientation": "v",
         "showlegend": true,
         "textposition": "auto",
         "type": "bar",
         "x": [
          "Dates"
         ],
         "xaxis": "x",
         "y": {
          "bdata": "KA==",
          "dtype": "i1"
         },
         "yaxis": "y"
        }
       ],
       "layout": {
        "barmode": "relative",
        "legend": {
         "title": {
          "text": "Fruits"
         },
         "tracegroupgap": 0
        },
        "template": {
         "data": {
          "bar": [
           {
            "error_x": {
             "color": "#2a3f5f"
            },
            "error_y": {
             "color": "#2a3f5f"
            },
            "marker": {
             "line": {
              "color": "#E5ECF6",
              "width": 0.5
             },
             "pattern": {
              "fillmode": "overlay",
              "size": 10,
              "solidity": 0.2
             }
            },
            "type": "bar"
           }
          ],
          "barpolar": [
           {
            "marker": {
             "line": {
              "color": "#E5ECF6",
              "width": 0.5
             },
             "pattern": {
              "fillmode": "overlay",
              "size": 10,
              "solidity": 0.2
             }
            },
            "type": "barpolar"
           }
          ],
          "carpet": [
           {
            "aaxis": {
             "endlinecolor": "#2a3f5f",
             "gridcolor": "white",
             "linecolor": "white",
             "minorgridcolor": "white",
             "startlinecolor": "#2a3f5f"
            },
            "baxis": {
             "endlinecolor": "#2a3f5f",
             "gridcolor": "white",
             "linecolor": "white",
             "minorgridcolor": "white",
             "startlinecolor": "#2a3f5f"
            },
            "type": "carpet"
           }
          ],
          "choropleth": [
           {
            "colorbar": {
             "outlinewidth": 0,
             "ticks": ""
            },
            "type": "choropleth"
           }
          ],
          "contour": [
           {
            "colorbar": {
             "outlinewidth": 0,
             "ticks": ""
            },
            "colorscale": [
             [
              0,
              "#0d0887"
             ],
             [
              0.1111111111111111,
              "#46039f"
             ],
             [
              0.2222222222222222,
              "#7201a8"
             ],
             [
              0.3333333333333333,
              "#9c179e"
             ],
             [
              0.4444444444444444,
              "#bd3786"
             ],
             [
              0.5555555555555556,
              "#d8576b"
             ],
             [
              0.6666666666666666,
              "#ed7953"
             ],
             [
              0.7777777777777778,
              "#fb9f3a"
             ],
             [
              0.8888888888888888,
              "#fdca26"
             ],
             [
              1,
              "#f0f921"
             ]
            ],
            "type": "contour"
           }
          ],
          "contourcarpet": [
           {
            "colorbar": {
             "outlinewidth": 0,
             "ticks": ""
            },
            "type": "contourcarpet"
           }
          ],
          "heatmap": [
           {
            "colorbar": {
             "outlinewidth": 0,
             "ticks": ""
            },
            "colorscale": [
             [
              0,
              "#0d0887"
             ],
             [
              0.1111111111111111,
              "#46039f"
             ],
             [
              0.2222222222222222,
              "#7201a8"
             ],
             [
              0.3333333333333333,
              "#9c179e"
             ],
             [
              0.4444444444444444,
              "#bd3786"
             ],
             [
              0.5555555555555556,
              "#d8576b"
             ],
             [
              0.6666666666666666,
              "#ed7953"
             ],
             [
              0.7777777777777778,
              "#fb9f3a"
             ],
             [
              0.8888888888888888,
              "#fdca26"
             ],
             [
              1,
              "#f0f921"
             ]
            ],
            "type": "heatmap"
           }
          ],
          "histogram": [
           {
            "marker": {
             "pattern": {
              "fillmode": "overlay",
              "size": 10,
              "solidity": 0.2
             }
            },
            "type": "histogram"
           }
          ],
          "histogram2d": [
           {
            "colorbar": {
             "outlinewidth": 0,
             "ticks": ""
            },
            "colorscale": [
             [
              0,
              "#0d0887"
             ],
             [
              0.1111111111111111,
              "#46039f"
             ],
             [
              0.2222222222222222,
              "#7201a8"
             ],
             [
              0.3333333333333333,
              "#9c179e"
             ],
             [
              0.4444444444444444,
              "#bd3786"
             ],
             [
              0.5555555555555556,
              "#d8576b"
             ],
             [
              0.6666666666666666,
              "#ed7953"
             ],
             [
              0.7777777777777778,
              "#fb9f3a"
             ],
             [
              0.8888888888888888,
              "#fdca26"
             ],
             [
              1,
              "#f0f921"
             ]
            ],
            "type": "histogram2d"
           }
          ],
          "histogram2dcontour": [
           {
            "colorbar": {
             "outlinewidth": 0,
             "ticks": ""
            },
            "colorscale": [
             [
              0,
              "#0d0887"
             ],
             [
              0.1111111111111111,
              "#46039f"
             ],
             [
              0.2222222222222222,
              "#7201a8"
             ],
             [
              0.3333333333333333,
              "#9c179e"
             ],
             [
              0.4444444444444444,
              "#bd3786"
             ],
             [
              0.5555555555555556,
              "#d8576b"
             ],
             [
              0.6666666666666666,
              "#ed7953"
             ],
             [
              0.7777777777777778,
              "#fb9f3a"
             ],
             [
              0.8888888888888888,
              "#fdca26"
             ],
             [
              1,
              "#f0f921"
             ]
            ],
            "type": "histogram2dcontour"
           }
          ],
          "mesh3d": [
           {
            "colorbar": {
             "outlinewidth": 0,
             "ticks": ""
            },
            "type": "mesh3d"
           }
          ],
          "parcoords": [
           {
            "line": {
             "colorbar": {
              "outlinewidth": 0,
              "ticks": ""
             }
            },
            "type": "parcoords"
           }
          ],
          "pie": [
           {
            "automargin": true,
            "type": "pie"
           }
          ],
          "scatter": [
           {
            "fillpattern": {
             "fillmode": "overlay",
             "size": 10,
             "solidity": 0.2
            },
            "type": "scatter"
           }
          ],
          "scatter3d": [
           {
            "line": {
             "colorbar": {
              "outlinewidth": 0,
              "ticks": ""
             }
            },
            "marker": {
             "colorbar": {
              "outlinewidth": 0,
              "ticks": ""
             }
            },
            "type": "scatter3d"
           }
          ],
          "scattercarpet": [
           {
            "marker": {
             "colorbar": {
              "outlinewidth": 0,
              "ticks": ""
             }
            },
            "type": "scattercarpet"
           }
          ],
          "scattergeo": [
           {
            "marker": {
             "colorbar": {
              "outlinewidth": 0,
              "ticks": ""
             }
            },
            "type": "scattergeo"
           }
          ],
          "scattergl": [
           {
            "marker": {
             "colorbar": {
              "outlinewidth": 0,
              "ticks": ""
             }
            },
            "type": "scattergl"
           }
          ],
          "scattermap": [
           {
            "marker": {
             "colorbar": {
              "outlinewidth": 0,
              "ticks": ""
             }
            },
            "type": "scattermap"
           }
          ],
          "scattermapbox": [
           {
            "marker": {
             "colorbar": {
              "outlinewidth": 0,
              "ticks": ""
             }
            },
            "type": "scattermapbox"
           }
          ],
          "scatterpolar": [
           {
            "marker": {
             "colorbar": {
              "outlinewidth": 0,
              "ticks": ""
             }
            },
            "type": "scatterpolar"
           }
          ],
          "scatterpolargl": [
           {
            "marker": {
             "colorbar": {
              "outlinewidth": 0,
              "ticks": ""
             }
            },
            "type": "scatterpolargl"
           }
          ],
          "scatterternary": [
           {
            "marker": {
             "colorbar": {
              "outlinewidth": 0,
              "ticks": ""
             }
            },
            "type": "scatterternary"
           }
          ],
          "surface": [
           {
            "colorbar": {
             "outlinewidth": 0,
             "ticks": ""
            },
            "colorscale": [
             [
              0,
              "#0d0887"
             ],
             [
              0.1111111111111111,
              "#46039f"
             ],
             [
              0.2222222222222222,
              "#7201a8"
             ],
             [
              0.3333333333333333,
              "#9c179e"
             ],
             [
              0.4444444444444444,
              "#bd3786"
             ],
             [
              0.5555555555555556,
              "#d8576b"
             ],
             [
              0.6666666666666666,
              "#ed7953"
             ],
             [
              0.7777777777777778,
              "#fb9f3a"
             ],
             [
              0.8888888888888888,
              "#fdca26"
             ],
             [
              1,
              "#f0f921"
             ]
            ],
            "type": "surface"
           }
          ],
          "table": [
           {
            "cells": {
             "fill": {
              "color": "#EBF0F8"
             },
             "line": {
              "color": "white"
             }
            },
            "header": {
             "fill": {
              "color": "#C8D4E3"
             },
             "line": {
              "color": "white"
             }
            },
            "type": "table"
           }
          ]
         },
         "layout": {
          "annotationdefaults": {
           "arrowcolor": "#2a3f5f",
           "arrowhead": 0,
           "arrowwidth": 1
          },
          "autotypenumbers": "strict",
          "coloraxis": {
           "colorbar": {
            "outlinewidth": 0,
            "ticks": ""
           }
          },
          "colorscale": {
           "diverging": [
            [
             0,
             "#8e0152"
            ],
            [
             0.1,
             "#c51b7d"
            ],
            [
             0.2,
             "#de77ae"
            ],
            [
             0.3,
             "#f1b6da"
            ],
            [
             0.4,
             "#fde0ef"
            ],
            [
             0.5,
             "#f7f7f7"
            ],
            [
             0.6,
             "#e6f5d0"
            ],
            [
             0.7,
             "#b8e186"
            ],
            [
             0.8,
             "#7fbc41"
            ],
            [
             0.9,
             "#4d9221"
            ],
            [
             1,
             "#276419"
            ]
           ],
           "sequential": [
            [
             0,
             "#0d0887"
            ],
            [
             0.1111111111111111,
             "#46039f"
            ],
            [
             0.2222222222222222,
             "#7201a8"
            ],
            [
             0.3333333333333333,
             "#9c179e"
            ],
            [
             0.4444444444444444,
             "#bd3786"
            ],
            [
             0.5555555555555556,
             "#d8576b"
            ],
            [
             0.6666666666666666,
             "#ed7953"
            ],
            [
             0.7777777777777778,
             "#fb9f3a"
            ],
            [
             0.8888888888888888,
             "#fdca26"
            ],
            [
             1,
             "#f0f921"
            ]
           ],
           "sequentialminus": [
            [
             0,
             "#0d0887"
            ],
            [
             0.1111111111111111,
             "#46039f"
            ],
            [
             0.2222222222222222,
             "#7201a8"
            ],
            [
             0.3333333333333333,
             "#9c179e"
            ],
            [
             0.4444444444444444,
             "#bd3786"
            ],
            [
             0.5555555555555556,
             "#d8576b"
            ],
            [
             0.6666666666666666,
             "#ed7953"
            ],
            [
             0.7777777777777778,
             "#fb9f3a"
            ],
            [
             0.8888888888888888,
             "#fdca26"
            ],
            [
             1,
             "#f0f921"
            ]
           ]
          },
          "colorway": [
           "#636efa",
           "#EF553B",
           "#00cc96",
           "#ab63fa",
           "#FFA15A",
           "#19d3f3",
           "#FF6692",
           "#B6E880",
           "#FF97FF",
           "#FECB52"
          ],
          "font": {
           "color": "#2a3f5f"
          },
          "geo": {
           "bgcolor": "white",
           "lakecolor": "white",
           "landcolor": "#E5ECF6",
           "showlakes": true,
           "showland": true,
           "subunitcolor": "white"
          },
          "hoverlabel": {
           "align": "left"
          },
          "hovermode": "closest",
          "mapbox": {
           "style": "light"
          },
          "paper_bgcolor": "white",
          "plot_bgcolor": "#E5ECF6",
          "polar": {
           "angularaxis": {
            "gridcolor": "white",
            "linecolor": "white",
            "ticks": ""
           },
           "bgcolor": "#E5ECF6",
           "radialaxis": {
            "gridcolor": "white",
            "linecolor": "white",
            "ticks": ""
           }
          },
          "scene": {
           "xaxis": {
            "backgroundcolor": "#E5ECF6",
            "gridcolor": "white",
            "gridwidth": 2,
            "linecolor": "white",
            "showbackground": true,
            "ticks": "",
            "zerolinecolor": "white"
           },
           "yaxis": {
            "backgroundcolor": "#E5ECF6",
            "gridcolor": "white",
            "gridwidth": 2,
            "linecolor": "white",
            "showbackground": true,
            "ticks": "",
            "zerolinecolor": "white"
           },
           "zaxis": {
            "backgroundcolor": "#E5ECF6",
            "gridcolor": "white",
            "gridwidth": 2,
            "linecolor": "white",
            "showbackground": true,
            "ticks": "",
            "zerolinecolor": "white"
           }
          },
          "shapedefaults": {
           "line": {
            "color": "#2a3f5f"
           }
          },
          "ternary": {
           "aaxis": {
            "gridcolor": "white",
            "linecolor": "white",
            "ticks": ""
           },
           "baxis": {
            "gridcolor": "white",
            "linecolor": "white",
            "ticks": ""
           },
           "bgcolor": "#E5ECF6",
           "caxis": {
            "gridcolor": "white",
            "linecolor": "white",
            "ticks": ""
           }
          },
          "title": {
           "x": 0.05
          },
          "xaxis": {
           "automargin": true,
           "gridcolor": "white",
           "linecolor": "white",
           "ticks": "",
           "title": {
            "standoff": 15
           },
           "zerolinecolor": "white",
           "zerolinewidth": 2
          },
          "yaxis": {
           "automargin": true,
           "gridcolor": "white",
           "linecolor": "white",
           "ticks": "",
           "title": {
            "standoff": 15
           },
           "zerolinecolor": "white",
           "zerolinewidth": 2
          }
         }
        },
        "title": {
         "text": "Fruit Quantity Bar Chart"
        },
        "xaxis": {
         "anchor": "y",
         "categoryarray": [
          "Apples",
          "Bananas",
          "Cherries",
          "Dates"
         ],
         "categoryorder": "array",
         "domain": [
          0,
          1
         ],
         "title": {
          "text": "Fruits"
         }
        },
        "yaxis": {
         "anchor": "x",
         "domain": [
          0,
          1
         ],
         "title": {
          "text": "Quantity"
         }
        }
       }
      }
     },
     "metadata": {},
     "output_type": "display_data"
    }
   ],
   "source": [
    "!pip install plotly\n",
    "\n",
    "import plotly.express as px\n",
    "\n",
    "# Sample data\n",
    "data = {\n",
    "    'Fruits': ['Apples', 'Bananas', 'Cherries', 'Dates'],\n",
    "    'Quantity': [50, 75, 30, 40]\n",
    "}\n",
    "\n",
    "# Create a bar plot\n",
    "fig = px.bar(data, x='Fruits', y='Quantity', title='Fruit Quantity Bar Chart', color='Fruits')\n",
    "\n",
    "# Show the plot\n",
    "fig.show()\n"
   ]
  },
  {
   "cell_type": "markdown",
   "id": "d839785d-e0cb-40aa-be34-4f31fb1527a6",
   "metadata": {},
   "source": [
    "### 6. Create a DataFrame and add a new column based on an existing column."
   ]
  },
  {
   "cell_type": "code",
   "execution_count": 26,
   "id": "143b8c80-24d5-49ac-b7fe-4564170e8ed8",
   "metadata": {},
   "outputs": [
    {
     "name": "stdout",
     "output_type": "stream",
     "text": [
      "      Name  Salary   Bonus\n",
      "0    Alice   50000  5000.0\n",
      "1      Bob   60000  6000.0\n",
      "2  Charlie   70000  7000.0\n",
      "3    David   80000  8000.0\n"
     ]
    }
   ],
   "source": [
    "import pandas as pd\n",
    "\n",
    "# Step 1: Create a DataFrame\n",
    "data = {\n",
    "    'Name': ['Alice', 'Bob', 'Charlie', 'David'],\n",
    "    'Salary': [50000, 60000, 70000, 80000]\n",
    "}\n",
    "\n",
    "df = pd.DataFrame(data)\n",
    "\n",
    "# Step 2: Add a new column based on existing column\n",
    "# Let's say we want to calculate a 10% bonus based on Salary\n",
    "df['Bonus'] = df['Salary'] * 0.10\n",
    "\n",
    "# Display the updated DataFrame\n",
    "print(df)\n"
   ]
  },
  {
   "cell_type": "markdown",
   "id": "4b117027-5dd6-4ece-b1e9-6aba65a7d22f",
   "metadata": {},
   "source": [
    "### 7.Write a program to perform element-wise multiplication of two NumPy arrays."
   ]
  },
  {
   "cell_type": "code",
   "execution_count": 27,
   "id": "c87ff89b-4c9a-4c2b-a453-fd623a7491db",
   "metadata": {},
   "outputs": [
    {
     "name": "stdout",
     "output_type": "stream",
     "text": [
      "Array 1: [1 2 3 4]\n",
      "Array 2: [5 6 7 8]\n",
      "Element-wise multiplication result: [ 5 12 21 32]\n"
     ]
    }
   ],
   "source": [
    "import numpy as np\n",
    "\n",
    "# Create two NumPy arrays\n",
    "array1 = np.array([1, 2, 3, 4])\n",
    "array2 = np.array([5, 6, 7, 8])\n",
    "\n",
    "# Perform element-wise multiplication\n",
    "result = array1 * array2\n",
    "\n",
    "# Display the result\n",
    "print(\"Array 1:\", array1)\n",
    "print(\"Array 2:\", array2)\n",
    "print(\"Element-wise multiplication result:\", result)\n"
   ]
  },
  {
   "cell_type": "markdown",
   "id": "1a3851e3-e404-4f86-afd6-e2cded802f39",
   "metadata": {},
   "source": [
    "### 8. Create a line plot with multiple lines using Matplotlib."
   ]
  },
  {
   "cell_type": "code",
   "execution_count": 28,
   "id": "76c5e41b-4cdf-4e21-8be4-4d81365aedc5",
   "metadata": {},
   "outputs": [
    {
     "data": {
      "image/png": "[encoded data removed]",
      "text/plain": [
       "<Figure size 640x480 with 1 Axes>"
      ]
     },
     "metadata": {},
     "output_type": "display_data"
    }
   ],
   "source": [
    "import matplotlib.pyplot as plt\n",
    "\n",
    "# Sample data\n",
    "x = [1, 2, 3, 4, 5]\n",
    "\n",
    "y1 = [10, 15, 20, 25, 30]   # Line 1\n",
    "y2 = [5, 10, 15, 20, 25]    # Line 2\n",
    "y3 = [2, 8, 18, 28, 35]     # Line 3\n",
    "\n",
    "# Create line plots\n",
    "plt.plot(x, y1, label='Line 1', color='blue', marker='o')\n",
    "plt.plot(x, y2, label='Line 2', color='green', marker='s')\n",
    "plt.plot(x, y3, label='Line 3', color='red', marker='^')\n",
    "\n",
    "# Add labels and title\n",
    "plt.xlabel('X-axis')\n",
    "plt.ylabel('Y-axis')\n",
    "plt.title('Line Plot with Multiple Lines')\n",
    "\n",
    "# Show legend\n",
    "plt.legend()\n",
    "\n",
    "# Display the plot\n",
    "plt.grid(True)\n",
    "plt.show()\n"
   ]
  },
  {
   "cell_type": "markdown",
   "id": "19ac79f6-44a8-4ea7-b85a-bc89145f0e93",
   "metadata": {},
   "source": [
    "###  9.Generate a Pandas DataFrame and filter rows where a column value is greater than a threshold."
   ]
  },
  {
   "cell_type": "code",
   "execution_count": 29,
   "id": "ccdbb6e9-2be3-4727-9018-1f4006751552",
   "metadata": {},
   "outputs": [
    {
     "name": "stdout",
     "output_type": "stream",
     "text": [
      "Original DataFrame:\n",
      "       Name  Score\n",
      "0    Alice     85\n",
      "1      Bob     62\n",
      "2  Charlie     90\n",
      "3    David     70\n",
      "4      Eva     95\n",
      "\n",
      "Filtered DataFrame (Score > 80):\n",
      "       Name  Score\n",
      "0    Alice     85\n",
      "2  Charlie     90\n",
      "4      Eva     95\n"
     ]
    }
   ],
   "source": [
    "import pandas as pd\n",
    "\n",
    "# Step 1: Create a DataFrame\n",
    "data = {\n",
    "    'Name': ['Alice', 'Bob', 'Charlie', 'David', 'Eva'],\n",
    "    'Score': [85, 62, 90, 70, 95]\n",
    "}\n",
    "\n",
    "df = pd.DataFrame(data)\n",
    "\n",
    "# Step 2: Define a threshold\n",
    "threshold = 80\n",
    "\n",
    "# Step 3: Filter rows where Score > threshold\n",
    "filtered_df = df[df['Score'] > threshold]\n",
    "\n",
    "# Display the filtered DataFrame\n",
    "print(\"Original DataFrame:\\n\", df)\n",
    "print(\"\\nFiltered DataFrame (Score > 80):\\n\", filtered_df)\n"
   ]
  },
  {
   "cell_type": "markdown",
   "id": "d15bb771-a3c6-4df4-b77b-8f5844fe7c61",
   "metadata": {},
   "source": [
    "### 10.Create a histogram using Seaborn to visualize a distribution."
   ]
  },
  {
   "cell_type": "markdown",
   "id": "300baff3-4652-45ad-84a4-ffdfa0a8cc44",
   "metadata": {},
   "source": [
    "import seaborn as sns\n",
    "import matplotlib.pyplot as plt\n",
    "import pandas as pd\n",
    "\n",
    "# Sample data\n",
    "data = {\n",
    "    'Scores': [45, 55, 60, 62, 65, 70, 72, 75, 77, 80, 82, 85, 87, 90, 95, 98, 100]\n",
    "}\n",
    "\n",
    "# Create a DataFrame\n",
    "df = pd.DataFrame(data)\n",
    "\n",
    "# Create a histogram using Seaborn\n",
    "plt.figure(figsize=(8, 5))\n",
    "sns.histplot(df['Scores'], bins=10, kde=True, color='skyblue')\n",
    "\n",
    "# Add titles and labels\n",
    "plt.title('Score Distribution Histogram')\n",
    "plt.xlabel('Scores')\n",
    "plt.ylabel('Frequency')\n",
    "\n",
    "# Show the plot\n",
    "plt.show()\n"
   ]
  },
  {
   "cell_type": "markdown",
   "id": "73a85238-0533-4021-8b7b-1358afacdc5f",
   "metadata": {},
   "source": [
    "### 11.Perform matrix multiplication using NumPy."
   ]
  },
  {
   "cell_type": "code",
   "execution_count": 31,
   "id": "97cd86c6-a415-4ae0-a57c-8f7ae6eba4d1",
   "metadata": {},
   "outputs": [
    {
     "name": "stdout",
     "output_type": "stream",
     "text": [
      "Matrix A:\n",
      " [[1 2]\n",
      " [3 4]]\n",
      "Matrix B:\n",
      " [[5 6]\n",
      " [7 8]]\n",
      "Matrix Multiplication Result:\n",
      " [[19 22]\n",
      " [43 50]]\n"
     ]
    }
   ],
   "source": [
    "import numpy as np\n",
    "\n",
    "# Define two matrices (2D arrays)\n",
    "A = np.array([[1, 2],\n",
    "              [3, 4]])\n",
    "\n",
    "B = np.array([[5, 6],\n",
    "              [7, 8]])\n",
    "\n",
    "# Perform matrix multiplication using np.dot() or @ operator\n",
    "result = np.dot(A, B)\n",
    "# Or: result = A @ B  (Python 3.5+)\n",
    "\n",
    "# Display the result\n",
    "print(\"Matrix A:\\n\", A)\n",
    "print(\"Matrix B:\\n\", B)\n",
    "print(\"Matrix Multiplication Result:\\n\", result)\n"
   ]
  },
  {
   "cell_type": "markdown",
   "id": "482fde1b-f5d9-4aa4-a2e4-f46cf32b5685",
   "metadata": {},
   "source": [
    "### 12.Use Pandas to load a CSV file and display its first 5 rows."
   ]
  },
  {
   "cell_type": "code",
   "execution_count": 33,
   "id": "3dbf7905-5713-47b7-bce7-e7842c8efc57",
   "metadata": {},
   "outputs": [],
   "source": [
    "import pandas as pd\n",
    "\n",
    "# Create sample data\n",
    "data = {\n",
    "    'Name': ['Alice', 'Bob', 'Charlie', 'David', 'Eva'],\n",
    "    'Age': [25, 30, 35, 40, 28],\n",
    "    'City': ['Delhi', 'Mumbai', 'Bangalore', 'Chennai', 'Kolkata']\n",
    "}\n",
    "\n",
    "# Convert to DataFrame\n",
    "df = pd.DataFrame(data)\n",
    "\n",
    "# Save as CSV\n",
    "df.to_csv('sample_data.csv', index=False)  # Saves in the same directory\n"
   ]
  },
  {
   "cell_type": "code",
   "execution_count": 34,
   "id": "3c2de10f-03e5-463e-bf9a-bdc66a366484",
   "metadata": {},
   "outputs": [
    {
     "name": "stdout",
     "output_type": "stream",
     "text": [
      "      Name  Age       City\n",
      "0    Alice   25      Delhi\n",
      "1      Bob   30     Mumbai\n",
      "2  Charlie   35  Bangalore\n",
      "3    David   40    Chennai\n",
      "4      Eva   28    Kolkata\n"
     ]
    }
   ],
   "source": [
    "# Load the CSV file\n",
    "df_loaded = pd.read_csv('sample_data.csv')\n",
    "\n",
    "# Show the first 5 rows\n",
    "print(df_loaded.head())\n"
   ]
  },
  {
   "cell_type": "markdown",
   "id": "9902c525-78bd-4160-8c51-d14ec9eae2a5",
   "metadata": {},
   "source": [
    "### 13.Create a 3D scatter plot using Plotly."
   ]
  },
  {
   "cell_type": "code",
   "execution_count": 35,
   "id": "88d3a83f-b43f-43d0-bdff-6104ed42a5f7",
   "metadata": {},
   "outputs": [
    {
     "data": {
      "application/vnd.plotly.v1+json": {
       "config": {
        "plotlyServerURL": "https://plot.ly"
       },
       "data": [
        {
         "hovertemplate": "Label=A<br>X=%{x}<br>Y=%{y}<br>Z=%{z}<extra></extra>",
         "legendgroup": "A",
         "marker": {
          "color": "#636efa",
          "symbol": "circle"
         },
         "mode": "markers",
         "name": "A",
         "scene": "scene",
         "showlegend": true,
         "type": "scatter3d",
         "x": {
          "bdata": "AQ==",
          "dtype": "i1"
         },
         "y": {
          "bdata": "Cg==",
          "dtype": "i1"
         },
         "z": {
          "bdata": "BQ==",
          "dtype": "i1"
         }
        },
        {
         "hovertemplate": "Label=B<br>X=%{x}<br>Y=%{y}<br>Z=%{z}<extra></extra>",
         "legendgroup": "B",
         "marker": {
          "color": "#EF553B",
          "symbol": "circle"
         },
         "mode": "markers",
         "name": "B",
         "scene": "scene",
         "showlegend": true,
         "type": "scatter3d",
         "x": {
          "bdata": "Ag==",
          "dtype": "i1"
         },
         "y": {
          "bdata": "Cw==",
          "dtype": "i1"
         },
         "z": {
          "bdata": "Aw==",
          "dtype": "i1"
         }
        },
        {
         "hovertemplate": "Label=C<br>X=%{x}<br>Y=%{y}<br>Z=%{z}<extra></extra>",
         "legendgroup": "C",
         "marker": {
          "color": "#00cc96",
          "symbol": "circle"
         },
         "mode": "markers",
         "name": "C",
         "scene": "scene",
         "showlegend": true,
         "type": "scatter3d",
         "x": {
          "bdata": "Aw==",
          "dtype": "i1"
         },
         "y": {
          "bdata": "DA==",
          "dtype": "i1"
         },
         "z": {
          "bdata": "Bg==",
          "dtype": "i1"
         }
        },
        {
         "hovertemplate": "Label=D<br>X=%{x}<br>Y=%{y}<br>Z=%{z}<extra></extra>",
         "legendgroup": "D",
         "marker": {
          "color": "#ab63fa",
          "symbol": "circle"
         },
         "mode": "markers",
         "name": "D",
         "scene": "scene",
         "showlegend": true,
         "type": "scatter3d",
         "x": {
          "bdata": "BA==",
          "dtype": "i1"
         },
         "y": {
          "bdata": "DQ==",
          "dtype": "i1"
         },
         "z": {
          "bdata": "Ag==",
          "dtype": "i1"
         }
        },
        {
         "hovertemplate": "Label=E<br>X=%{x}<br>Y=%{y}<br>Z=%{z}<extra></extra>",
         "legendgroup": "E",
         "marker": {
          "color": "#FFA15A",
          "symbol": "circle"
         },
         "mode": "markers",
         "name": "E",
         "scene": "scene",
         "showlegend": true,
         "type": "scatter3d",
         "x": {
          "bdata": "BQ==",
          "dtype": "i1"
         },
         "y": {
          "bdata": "Dg==",
          "dtype": "i1"
         },
         "z": {
          "bdata": "Bw==",
          "dtype": "i1"
         }
        }
       ],
       "layout": {
        "legend": {
         "title": {
          "text": "Label"
         },
         "tracegroupgap": 0
        },
        "scene": {
         "domain": {
          "x": [
           0,
           1
          ],
          "y": [
           0,
           1
          ]
         },
         "xaxis": {
          "title": {
           "text": "X"
          }
         },
         "yaxis": {
          "title": {
           "text": "Y"
          }
         },
         "zaxis": {
          "title": {
           "text": "Z"
          }
         }
        },
        "template": {
         "data": {
          "bar": [
           {
            "error_x": {
             "color": "#2a3f5f"
            },
            "error_y": {
             "color": "#2a3f5f"
            },
            "marker": {
             "line": {
              "color": "#E5ECF6",
              "width": 0.5
             },
             "pattern": {
              "fillmode": "overlay",
              "size": 10,
              "solidity": 0.2
             }
            },
            "type": "bar"
           }
          ],
          "barpolar": [
           {
            "marker": {
             "line": {
              "color": "#E5ECF6",
              "width": 0.5
             },
             "pattern": {
              "fillmode": "overlay",
              "size": 10,
              "solidity": 0.2
             }
            },
            "type": "barpolar"
           }
          ],
          "carpet": [
           {
            "aaxis": {
             "endlinecolor": "#2a3f5f",
             "gridcolor": "white",
             "linecolor": "white",
             "minorgridcolor": "white",
             "startlinecolor": "#2a3f5f"
            },
            "baxis": {
             "endlinecolor": "#2a3f5f",
             "gridcolor": "white",
             "linecolor": "white",
             "minorgridcolor": "white",
             "startlinecolor": "#2a3f5f"
            },
            "type": "carpet"
           }
          ],
          "choropleth": [
           {
            "colorbar": {
             "outlinewidth": 0,
             "ticks": ""
            },
            "type": "choropleth"
           }
          ],
          "contour": [
           {
            "colorbar": {
             "outlinewidth": 0,
             "ticks": ""
            },
            "colorscale": [
             [
              0,
              "#0d0887"
             ],
             [
              0.1111111111111111,
              "#46039f"
             ],
             [
              0.2222222222222222,
              "#7201a8"
             ],
             [
              0.3333333333333333,
              "#9c179e"
             ],
             [
              0.4444444444444444,
              "#bd3786"
             ],
             [
              0.5555555555555556,
              "#d8576b"
             ],
             [
              0.6666666666666666,
              "#ed7953"
             ],
             [
              0.7777777777777778,
              "#fb9f3a"
             ],
             [
              0.8888888888888888,
              "#fdca26"
             ],
             [
              1,
              "#f0f921"
             ]
            ],
            "type": "contour"
           }
          ],
          "contourcarpet": [
           {
            "colorbar": {
             "outlinewidth": 0,
             "ticks": ""
            },
            "type": "contourcarpet"
           }
          ],
          "heatmap": [
           {
            "colorbar": {
             "outlinewidth": 0,
             "ticks": ""
            },
            "colorscale": [
             [
              0,
              "#0d0887"
             ],
             [
              0.1111111111111111,
              "#46039f"
             ],
             [
              0.2222222222222222,
              "#7201a8"
             ],
             [
              0.3333333333333333,
              "#9c179e"
             ],
             [
              0.4444444444444444,
              "#bd3786"
             ],
             [
              0.5555555555555556,
              "#d8576b"
             ],
             [
              0.6666666666666666,
              "#ed7953"
             ],
             [
              0.7777777777777778,
              "#fb9f3a"
             ],
             [
              0.8888888888888888,
              "#fdca26"
             ],
             [
              1,
              "#f0f921"
             ]
            ],
            "type": "heatmap"
           }
          ],
          "histogram": [
           {
            "marker": {
             "pattern": {
              "fillmode": "overlay",
              "size": 10,
              "solidity": 0.2
             }
            },
            "type": "histogram"
           }
          ],
          "histogram2d": [
           {
            "colorbar": {
             "outlinewidth": 0,
             "ticks": ""
            },
            "colorscale": [
             [
              0,
              "#0d0887"
             ],
             [
              0.1111111111111111,
              "#46039f"
             ],
             [
              0.2222222222222222,
              "#7201a8"
             ],
             [
              0.3333333333333333,
              "#9c179e"
             ],
             [
              0.4444444444444444,
              "#bd3786"
             ],
             [
              0.5555555555555556,
              "#d8576b"
             ],
             [
              0.6666666666666666,
              "#ed7953"
             ],
             [
              0.7777777777777778,
              "#fb9f3a"
             ],
             [
              0.8888888888888888,
              "#fdca26"
             ],
             [
              1,
              "#f0f921"
             ]
            ],
            "type": "histogram2d"
           }
          ],
          "histogram2dcontour": [
           {
            "colorbar": {
             "outlinewidth": 0,
             "ticks": ""
            },
            "colorscale": [
             [
              0,
              "#0d0887"
             ],
             [
              0.1111111111111111,
              "#46039f"
             ],
             [
              0.2222222222222222,
              "#7201a8"
             ],
             [
              0.3333333333333333,
              "#9c179e"
             ],
             [
              0.4444444444444444,
              "#bd3786"
             ],
             [
              0.5555555555555556,
              "#d8576b"
             ],
             [
              0.6666666666666666,
              "#ed7953"
             ],
             [
              0.7777777777777778,
              "#fb9f3a"
             ],
             [
              0.8888888888888888,
              "#fdca26"
             ],
             [
              1,
              "#f0f921"
             ]
            ],
            "type": "histogram2dcontour"
           }
          ],
          "mesh3d": [
           {
            "colorbar": {
             "outlinewidth": 0,
             "ticks": ""
            },
            "type": "mesh3d"
           }
          ],
          "parcoords": [
           {
            "line": {
             "colorbar": {
              "outlinewidth": 0,
              "ticks": ""
             }
            },
            "type": "parcoords"
           }
          ],
          "pie": [
           {
            "automargin": true,
            "type": "pie"
           }
          ],
          "scatter": [
           {
            "fillpattern": {
             "fillmode": "overlay",
             "size": 10,
             "solidity": 0.2
            },
            "type": "scatter"
           }
          ],
          "scatter3d": [
           {
            "line": {
             "colorbar": {
              "outlinewidth": 0,
              "ticks": ""
             }
            },
            "marker": {
             "colorbar": {
              "outlinewidth": 0,
              "ticks": ""
             }
            },
            "type": "scatter3d"
           }
          ],
          "scattercarpet": [
           {
            "marker": {
             "colorbar": {
              "outlinewidth": 0,
              "ticks": ""
             }
            },
            "type": "scattercarpet"
           }
          ],
          "scattergeo": [
           {
            "marker": {
             "colorbar": {
              "outlinewidth": 0,
              "ticks": ""
             }
            },
            "type": "scattergeo"
           }
          ],
          "scattergl": [
           {
            "marker": {
             "colorbar": {
              "outlinewidth": 0,
              "ticks": ""
             }
            },
            "type": "scattergl"
           }
          ],
          "scattermap": [
           {
            "marker": {
             "colorbar": {
              "outlinewidth": 0,
              "ticks": ""
             }
            },
            "type": "scattermap"
           }
          ],
          "scattermapbox": [
           {
            "marker": {
             "colorbar": {
              "outlinewidth": 0,
              "ticks": ""
             }
            },
            "type": "scattermapbox"
           }
          ],
          "scatterpolar": [
           {
            "marker": {
             "colorbar": {
              "outlinewidth": 0,
              "ticks": ""
             }
            },
            "type": "scatterpolar"
           }
          ],
          "scatterpolargl": [
           {
            "marker": {
             "colorbar": {
              "outlinewidth": 0,
              "ticks": ""
             }
            },
            "type": "scatterpolargl"
           }
          ],
          "scatterternary": [
           {
            "marker": {
             "colorbar": {
              "outlinewidth": 0,
              "ticks": ""
             }
            },
            "type": "scatterternary"
           }
          ],
          "surface": [
           {
            "colorbar": {
             "outlinewidth": 0,
             "ticks": ""
            },
            "colorscale": [
             [
              0,
              "#0d0887"
             ],
             [
              0.1111111111111111,
              "#46039f"
             ],
             [
              0.2222222222222222,
              "#7201a8"
             ],
             [
              0.3333333333333333,
              "#9c179e"
             ],
             [
              0.4444444444444444,
              "#bd3786"
             ],
             [
              0.5555555555555556,
              "#d8576b"
             ],
             [
              0.6666666666666666,
              "#ed7953"
             ],
             [
              0.7777777777777778,
              "#fb9f3a"
             ],
             [
              0.8888888888888888,
              "#fdca26"
             ],
             [
              1,
              "#f0f921"
             ]
            ],
            "type": "surface"
           }
          ],
          "table": [
           {
            "cells": {
             "fill": {
              "color": "#EBF0F8"
             },
             "line": {
              "color": "white"
             }
            },
            "header": {
             "fill": {
              "color": "#C8D4E3"
             },
             "line": {
              "color": "white"
             }
            },
            "type": "table"
           }
          ]
         },
         "layout": {
          "annotationdefaults": {
           "arrowcolor": "#2a3f5f",
           "arrowhead": 0,
           "arrowwidth": 1
          },
          "autotypenumbers": "strict",
          "coloraxis": {
           "colorbar": {
            "outlinewidth": 0,
            "ticks": ""
           }
          },
          "colorscale": {
           "diverging": [
            [
             0,
             "#8e0152"
            ],
            [
             0.1,
             "#c51b7d"
            ],
            [
             0.2,
             "#de77ae"
            ],
            [
             0.3,
             "#f1b6da"
            ],
            [
             0.4,
             "#fde0ef"
            ],
            [
             0.5,
             "#f7f7f7"
            ],
            [
             0.6,
             "#e6f5d0"
            ],
            [
             0.7,
             "#b8e186"
            ],
            [
             0.8,
             "#7fbc41"
            ],
            [
             0.9,
             "#4d9221"
            ],
            [
             1,
             "#276419"
            ]
           ],
           "sequential": [
            [
             0,
             "#0d0887"
            ],
            [
             0.1111111111111111,
             "#46039f"
            ],
            [
             0.2222222222222222,
             "#7201a8"
            ],
            [
             0.3333333333333333,
             "#9c179e"
            ],
            [
             0.4444444444444444,
             "#bd3786"
            ],
            [
             0.5555555555555556,
             "#d8576b"
            ],
            [
             0.6666666666666666,
             "#ed7953"
            ],
            [
             0.7777777777777778,
             "#fb9f3a"
            ],
            [
             0.8888888888888888,
             "#fdca26"
            ],
            [
             1,
             "#f0f921"
            ]
           ],
           "sequentialminus": [
            [
             0,
             "#0d0887"
            ],
            [
             0.1111111111111111,
             "#46039f"
            ],
            [
             0.2222222222222222,
             "#7201a8"
            ],
            [
             0.3333333333333333,
             "#9c179e"
            ],
            [
             0.4444444444444444,
             "#bd3786"
            ],
            [
             0.5555555555555556,
             "#d8576b"
            ],
            [
             0.6666666666666666,
             "#ed7953"
            ],
            [
             0.7777777777777778,
             "#fb9f3a"
            ],
            [
             0.8888888888888888,
             "#fdca26"
            ],
            [
             1,
             "#f0f921"
            ]
           ]
          },
          "colorway": [
           "#636efa",
           "#EF553B",
           "#00cc96",
           "#ab63fa",
           "#FFA15A",
           "#19d3f3",
           "#FF6692",
           "#B6E880",
           "#FF97FF",
           "#FECB52"
          ],
          "font": {
           "color": "#2a3f5f"
          },
          "geo": {
           "bgcolor": "white",
           "lakecolor": "white",
           "landcolor": "#E5ECF6",
           "showlakes": true,
           "showland": true,
           "subunitcolor": "white"
          },
          "hoverlabel": {
           "align": "left"
          },
          "hovermode": "closest",
          "mapbox": {
           "style": "light"
          },
          "paper_bgcolor": "white",
          "plot_bgcolor": "#E5ECF6",
          "polar": {
           "angularaxis": {
            "gridcolor": "white",
            "linecolor": "white",
            "ticks": ""
           },
           "bgcolor": "#E5ECF6",
           "radialaxis": {
            "gridcolor": "white",
            "linecolor": "white",
            "ticks": ""
           }
          },
          "scene": {
           "xaxis": {
            "backgroundcolor": "#E5ECF6",
            "gridcolor": "white",
            "gridwidth": 2,
            "linecolor": "white",
            "showbackground": true,
            "ticks": "",
            "zerolinecolor": "white"
           },
           "yaxis": {
            "backgroundcolor": "#E5ECF6",
            "gridcolor": "white",
            "gridwidth": 2,
            "linecolor": "white",
            "showbackground": true,
            "ticks": "",
            "zerolinecolor": "white"
           },
           "zaxis": {
            "backgroundcolor": "#E5ECF6",
            "gridcolor": "white",
            "gridwidth": 2,
            "linecolor": "white",
            "showbackground": true,
            "ticks": "",
            "zerolinecolor": "white"
           }
          },
          "shapedefaults": {
           "line": {
            "color": "#2a3f5f"
           }
          },
          "ternary": {
           "aaxis": {
            "gridcolor": "white",
            "linecolor": "white",
            "ticks": ""
           },
           "baxis": {
            "gridcolor": "white",
            "linecolor": "white",
            "ticks": ""
           },
           "bgcolor": "#E5ECF6",
           "caxis": {
            "gridcolor": "white",
            "linecolor": "white",
            "ticks": ""
           }
          },
          "title": {
           "x": 0.05
          },
          "xaxis": {
           "automargin": true,
           "gridcolor": "white",
           "linecolor": "white",
           "ticks": "",
           "title": {
            "standoff": 15
           },
           "zerolinecolor": "white",
           "zerolinewidth": 2
          },
          "yaxis": {
           "automargin": true,
           "gridcolor": "white",
           "linecolor": "white",
           "ticks": "",
           "title": {
            "standoff": 15
           },
           "zerolinecolor": "white",
           "zerolinewidth": 2
          }
         }
        },
        "title": {
         "text": "3D Scatter Plot"
        }
       }
      }
     },
     "metadata": {},
     "output_type": "display_data"
    }
   ],
   "source": [
    "import plotly.express as px\n",
    "import pandas as pd\n",
    "\n",
    "# Sample data\n",
    "data = {\n",
    "    'X': [1, 2, 3, 4, 5],\n",
    "    'Y': [10, 11, 12, 13, 14],\n",
    "    'Z': [5, 3, 6, 2, 7],\n",
    "    'Label': ['A', 'B', 'C', 'D', 'E']  # Optional: for color/grouping\n",
    "}\n",
    "\n",
    "df = pd.DataFrame(data)\n",
    "\n",
    "# Create 3D scatter plot\n",
    "fig = px.scatter_3d(df, x='X', y='Y', z='Z', color='Label',\n",
    "                    title='3D Scatter Plot')\n",
    "\n",
    "# Show the interactive plot\n",
    "fig.show()\n"
   ]
  },
  {
   "cell_type": "code",
   "execution_count": null,
   "id": "6301daeb-62d4-44c7-a514-268d8fbe388d",
   "metadata": {},
   "outputs": [],
   "source": []
  }
 ],
 "metadata": {
  "kernelspec": {
   "display_name": "Python 3 (ipykernel)",
   "language": "python",
   "name": "python3"
  },
  "language_info": {
   "codemirror_mode": {
    "name": "ipython",
    "version": 3
   },
   "file_extension": ".py",
   "mimetype": "text/x-python",
   "name": "python",
   "nbconvert_exporter": "python",
   "pygments_lexer": "ipython3",
   "version": "3.12.4"
  }
 },
 "nbformat": 4,
 "nbformat_minor": 5
}
